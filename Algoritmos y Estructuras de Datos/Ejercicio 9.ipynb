{
  "nbformat": 4,
  "nbformat_minor": 0,
  "metadata": {
    "colab": {
      "name": "Copia de CC3001 - Ejercicio 6.1 .ipynb",
      "provenance": [],
      "collapsed_sections": []
    },
    "kernelspec": {
      "name": "python3",
      "display_name": "Python 3"
    },
    "language_info": {
      "name": "python"
    }
  },
  "cells": [
    {
      "cell_type": "markdown",
      "source": [
        "### Ejercicio 6.1 (Chequear si un árbol es AVL en tiempo lineal)\n",
        "### [Juan-Bastian Espinoza C]\n",
        "\n",
        "En este ejercicio usted debe modificar la implementación dada para asegurar que cada nodo del árbol se visite solo una vez, asegurando de esta manera que el costo de determinar si un árbol es AVL sea $\\Theta(n)$.\n",
        "\n",
        "Para esto, usted debe fusionar las funciones ``altura`` y ``es_AVL``en una sola función ``altura_AVL``, que retorne una tupla $(h,a)$, donde $h$ es la altura y $a$ es un booleano que dice si el árbol es AVL. De esta manera, al invocar la función se tiene de una sola vez toda la información necesaria."
      ],
      "metadata": {
        "id": "lNknrPLmx0vY"
      }
    },
    {
      "cell_type": "code",
      "execution_count": 17,
      "metadata": {
        "id": "GBsWOvJrxvoq"
      },
      "outputs": [],
      "source": [
        "class Nodoi:\n",
        "    def __init__(self, izq, info, der):\n",
        "        self.izq=izq\n",
        "        self.info=info\n",
        "        self.der=der\n",
        "    \n",
        "    def altura_AVL(self):\n",
        "        i=self.izq.altura_AVL()[0]\n",
        "        d=self.der.altura_AVL()[0]\n",
        "        i1=self.izq.altura_AVL()[1]\n",
        "        d1=self.der.altura_AVL()[1]\n",
        "\n",
        "        return (1+max(i,d),abs(i-d)<=1 and i1 and d1)\n",
        "\n",
        "    def __str__(self):\n",
        "        return \"(\"+self.izq.__str__()+str(self.info)+self.der.__str__()+\")\"\n",
        "\n",
        "class Nodoe:\n",
        "    def __init__(self):\n",
        "        pass\n",
        "\n",
        "    def altura_AVL(self):\n",
        "        return (0,True)\n",
        "    \n",
        "  # def es_AVL(self):\n",
        "   #     return True\n",
        "    \n",
        "    def __str__(self):\n",
        "        return\"☐\"\n",
        "\n",
        "class Arbol:\n",
        "    def __init__(self,raiz=Nodoe()):\n",
        "        self.raiz=raiz     \n",
        "    \n",
        "    def altura_AVL(self):\n",
        "        return self.raiz.altura_AVL()\n",
        "    \n",
        "    def __str__(self):        \n",
        "        return self.raiz.__str__()"
      ]
    },
    {
      "cell_type": "markdown",
      "source": [
        "A continuación, pruébela con los dos árboles utilizados anteriormente:"
      ],
      "metadata": {
        "id": "R02hSizTx_xS"
      }
    },
    {
      "cell_type": "code",
      "source": [
        "a1=Arbol(Nodoi(Nodoi(Nodoe(),1,Nodoe()),\n",
        "            2,\n",
        "            Nodoi(Nodoe(),3,Nodoi(Nodoe(),4,Nodoe()))))\n",
        "print(a1)\n",
        "print(a1.altura_AVL())"
      ],
      "metadata": {
        "id": "1KkWgoCMyAXR",
        "colab": {
          "base_uri": "https://localhost:8080/"
        },
        "outputId": "9b0b8956-8091-47c7-80f3-ecbcafe0f2e8"
      },
      "execution_count": 18,
      "outputs": [
        {
          "output_type": "stream",
          "name": "stdout",
          "text": [
            "((☐1☐)2(☐3(☐4☐)))\n",
            "(3, True)\n"
          ]
        }
      ]
    },
    {
      "cell_type": "code",
      "source": [
        "a2=Arbol(Nodoi(Nodoi(Nodoe(),1,Nodoe()),\n",
        "            2,\n",
        "            Nodoi(Nodoe(),3,Nodoi(Nodoe(),4,Nodoi(Nodoe(),5,Nodoe())))))\n",
        "print(a2)\n",
        "print(a2.altura_AVL())"
      ],
      "metadata": {
        "id": "pUneVYEYyEwA",
        "colab": {
          "base_uri": "https://localhost:8080/"
        },
        "outputId": "3b9f7163-8ce9-47c4-e242-d6f25d978af8"
      },
      "execution_count": 19,
      "outputs": [
        {
          "output_type": "stream",
          "name": "stdout",
          "text": [
            "((☐1☐)2(☐3(☐4(☐5☐))))\n",
            "(4, False)\n"
          ]
        }
      ]
    }
  ]
}