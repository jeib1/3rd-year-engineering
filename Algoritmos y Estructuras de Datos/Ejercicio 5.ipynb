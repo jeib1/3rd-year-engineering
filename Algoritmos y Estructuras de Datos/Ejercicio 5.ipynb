{
  "nbformat": 4,
  "nbformat_minor": 0,
  "metadata": {
    "colab": {
      "provenance": [],
      "collapsed_sections": []
    },
    "kernelspec": {
      "name": "python3",
      "display_name": "Python 3"
    },
    "language_info": {
      "name": "python"
    }
  },
  "cells": [
    {
      "cell_type": "markdown",
      "source": [],
      "metadata": {
        "id": "15fDBuGV04-J"
      }
    },
    {
      "cell_type": "markdown",
      "source": [
        "### Ejercicio 4.2 [Juan-Bastian Espinoza c]\n",
        "Escriba una función que pueda ser invocada como ``L.reversar()``, que al ejecutarse re-enlace los nodos de la lista de modo que queden en el orden opuesto al original, en tiempo lineal en el largo de la lista. Esto debe hacerse solo modificando punteros, sin crear nuevos nodos. Escriba a continuación la definición de la clase ``Lista`` incluyendo la función ``reversar``."
      ],
      "metadata": {
        "id": "MhlJRy0-goX8"
      }
    },
    {
      "cell_type": "code",
      "execution_count": null,
      "metadata": {
        "id": "a-mSeGIPdus4",
        "colab": {
          "base_uri": "https://localhost:8080/"
        },
        "outputId": "283ff65a-cff1-4558-cd33-0603915476c7"
      },
      "outputs": [
        {
          "output_type": "stream",
          "name": "stdout",
          "text": [
            "Requirement already satisfied: aed_utilities in /usr/local/lib/python3.7/dist-packages (0.5.4)\n",
            "Requirement already satisfied: validators in /usr/local/lib/python3.7/dist-packages (from aed_utilities) (0.18.2)\n",
            "Requirement already satisfied: beautifulsoup4 in /usr/local/lib/python3.7/dist-packages (from aed_utilities) (4.6.3)\n",
            "Requirement already satisfied: decorator>=3.4.0 in /usr/local/lib/python3.7/dist-packages (from validators->aed_utilities) (4.4.2)\n",
            "Requirement already satisfied: six>=1.4.0 in /usr/local/lib/python3.7/dist-packages (from validators->aed_utilities) (1.15.0)\n"
          ]
        }
      ],
      "source": [
        "!pip install aed_utilities\n",
        "\n",
        "import aed_utilities as aed\n",
        "\n",
        "class Nodo:\n",
        "    def __init__(self, info, sgte=None):\n",
        "        self.info=info\n",
        "        self.sgte=sgte\n",
        "        \n",
        "class Lista:\n",
        "    def __init__(self):\n",
        "        self.primero=None\n",
        "        \n",
        "    def insertar_al_inicio(self,info):\n",
        "        self.primero=Nodo(info,self.primero)\n",
        "    \n",
        "    def insertar_despues_de(self,p,info): # inserta después de nodo p\n",
        "        p.sgte=Nodo(info,p.sgte)\n",
        "    \n",
        "    def eliminar_al_inicio(self):\n",
        "        assert self.primero is not None\n",
        "        self.primero=self.primero.sgte\n",
        "    \n",
        "    def eliminar_sgte_de(self,p): # elimina el nodo siguiente de p\n",
        "        assert p.sgte is not None\n",
        "        p.sgte=p.sgte.sgte\n",
        "    \n",
        "    def k_esimo(self,k): # retorna k-esimo nodo, o None si fuera de rango\n",
        "        p=self.primero\n",
        "        j=1\n",
        "        while p is not None:\n",
        "            if j==k:\n",
        "                return p\n",
        "            p=p.sgte\n",
        "            j+=1\n",
        "        return None\n",
        "    \n",
        "    def imprimir(self):\n",
        "        p=self.primero\n",
        "        while p is not None:\n",
        "            print(p.info, end=\" \")\n",
        "            p=p.sgte\n",
        "        print()\n",
        "    \n",
        "    def reversar(self):\n",
        "        p=self.primero\n",
        "        aux=None \n",
        "        while p is not None:\n",
        "            sgte=p.sgte \n",
        "            p.sgte=aux \n",
        "            aux=p\n",
        "            p=sgte\n",
        "        self.primero=aux\n",
        "              \n",
        "        \n",
        "    def dibujar(self):\n",
        "      lld = aed.LinkedListDrawer(fieldHeader=\"primero\", fieldData=\"info\", fieldLink=\"sgte\", strHeader=\"primero\")\n",
        "      lld.draw_linked_list(self)"
      ]
    },
    {
      "cell_type": "markdown",
      "source": [
        "Probar su función con los siguientes casos:"
      ],
      "metadata": {
        "id": "WG5bJj1agxnG"
      }
    },
    {
      "cell_type": "code",
      "source": [
        "L=Lista()\n",
        "L.insertar_al_inicio(44)\n",
        "L.insertar_al_inicio(13)\n",
        "L.insertar_al_inicio(65)\n",
        "L.insertar_al_inicio(42)\n",
        "L.dibujar()\n",
        "L.reversar()\n",
        " #agregue una prueba de mi funcion\n",
        "L.dibujar()\n"
      ],
      "metadata": {
        "id": "wv5qm-Wbd0_r",
        "colab": {
          "base_uri": "https://localhost:8080/",
          "height": 158
        },
        "outputId": "7b0a0aab-4c1b-44ca-f649-28344463fc44"
      },
      "execution_count": null,
      "outputs": [
        {
          "output_type": "display_data",
          "data": {
            "text/plain": [
              "<IPython.core.display.SVG object>"
            ],
            "image/svg+xml": "<svg height=\"50pt\" viewBox=\"0.00 0.00 452.39 49.60\" width=\"452pt\" xmlns=\"http://www.w3.org/2000/svg\" xmlns:xlink=\"http://www.w3.org/1999/xlink\">\n<g class=\"graph\" id=\"graph0\" transform=\"scale(1 1) rotate(0) translate(4 45.5963)\">\n<title>Lista</title>\n<polygon fill=\"#ffffff\" points=\"-4,4 -4,-45.5963 448.3852,-45.5963 448.3852,4 -4,4\" stroke=\"transparent\"/>\n<!-- HEAD -->\n<g class=\"node\" id=\"node1\">\n<title>HEAD</title>\n<text fill=\"#000000\" font-family=\"Times,serif\" font-size=\"14.00\" text-anchor=\"middle\" x=\"31\" y=\"-17.0982\">primero</text>\n</g>\n<!-- 42 -->\n<g class=\"node\" id=\"node3\">\n<title>42</title>\n<ellipse cx=\"118.7982\" cy=\"-20.7982\" fill=\"none\" rx=\"20.5982\" ry=\"20.5982\" stroke=\"#000000\"/>\n<text fill=\"#000000\" font-family=\"Times,serif\" font-size=\"14.00\" text-anchor=\"middle\" x=\"118.7982\" y=\"-17.0982\">42</text>\n</g>\n<!-- HEAD&#45;&gt;42 -->\n<g class=\"edge\" id=\"edge1\">\n<title>HEAD-&gt;42</title>\n<path d=\"M62.2016,-20.7982C70.519,-20.7982 79.5018,-20.7982 87.8079,-20.7982\" fill=\"none\" stroke=\"#000000\"/>\n<polygon fill=\"#000000\" points=\"87.866,-24.2983 97.8659,-20.7982 87.8659,-17.2983 87.866,-24.2983\" stroke=\"#000000\"/>\n</g>\n<!-- NULL -->\n<g class=\"node\" id=\"node2\">\n<title>NULL</title>\n<polygon fill=\"none\" points=\"444.3852,-38.7982 408.3852,-38.7982 408.3852,-2.7982 444.3852,-2.7982 444.3852,-38.7982\" stroke=\"#000000\"/>\n</g>\n<!-- 65 -->\n<g class=\"node\" id=\"node4\">\n<title>65</title>\n<ellipse cx=\"196.3945\" cy=\"-20.7982\" fill=\"none\" rx=\"20.5982\" ry=\"20.5982\" stroke=\"#000000\"/>\n<text fill=\"#000000\" font-family=\"Times,serif\" font-size=\"14.00\" text-anchor=\"middle\" x=\"196.3945\" y=\"-17.0982\">65</text>\n</g>\n<!-- 42&#45;&gt;65 -->\n<g class=\"edge\" id=\"edge2\">\n<title>42-&gt;65</title>\n<path d=\"M140.0017,-20.7982C147.8495,-20.7982 156.9158,-20.7982 165.4525,-20.7982\" fill=\"none\" stroke=\"#000000\"/>\n<polygon fill=\"#000000\" points=\"165.4853,-24.2983 175.4852,-20.7982 165.4852,-17.2983 165.4853,-24.2983\" stroke=\"#000000\"/>\n</g>\n<!-- 13 -->\n<g class=\"node\" id=\"node5\">\n<title>13</title>\n<ellipse cx=\"273.9908\" cy=\"-20.7982\" fill=\"none\" rx=\"20.5982\" ry=\"20.5982\" stroke=\"#000000\"/>\n<text fill=\"#000000\" font-family=\"Times,serif\" font-size=\"14.00\" text-anchor=\"middle\" x=\"273.9908\" y=\"-17.0982\">13</text>\n</g>\n<!-- 65&#45;&gt;13 -->\n<g class=\"edge\" id=\"edge3\">\n<title>65-&gt;13</title>\n<path d=\"M217.598,-20.7982C225.4458,-20.7982 234.5121,-20.7982 243.0488,-20.7982\" fill=\"none\" stroke=\"#000000\"/>\n<polygon fill=\"#000000\" points=\"243.0816,-24.2983 253.0815,-20.7982 243.0815,-17.2983 243.0816,-24.2983\" stroke=\"#000000\"/>\n</g>\n<!-- 44 -->\n<g class=\"node\" id=\"node6\">\n<title>44</title>\n<ellipse cx=\"351.5871\" cy=\"-20.7982\" fill=\"none\" rx=\"20.5982\" ry=\"20.5982\" stroke=\"#000000\"/>\n<text fill=\"#000000\" font-family=\"Times,serif\" font-size=\"14.00\" text-anchor=\"middle\" x=\"351.5871\" y=\"-17.0982\">44</text>\n</g>\n<!-- 13&#45;&gt;44 -->\n<g class=\"edge\" id=\"edge4\">\n<title>13-&gt;44</title>\n<path d=\"M295.1943,-20.7982C303.0421,-20.7982 312.1084,-20.7982 320.6451,-20.7982\" fill=\"none\" stroke=\"#000000\"/>\n<polygon fill=\"#000000\" points=\"320.6779,-24.2983 330.6779,-20.7982 320.6778,-17.2983 320.6779,-24.2983\" stroke=\"#000000\"/>\n</g>\n<!-- 44&#45;&gt;NULL -->\n<g class=\"edge\" id=\"edge5\">\n<title>44-&gt;NULL</title>\n<path d=\"M372.4225,-20.7982C380.325,-20.7982 389.4638,-20.7982 397.9487,-20.7982\" fill=\"none\" stroke=\"#000000\"/>\n<polygon fill=\"#000000\" points=\"398.2041,-24.2983 408.2041,-20.7982 398.2041,-17.2983 398.2041,-24.2983\" stroke=\"#000000\"/>\n</g>\n</g>\n</svg>"
          },
          "metadata": {}
        },
        {
          "output_type": "display_data",
          "data": {
            "text/plain": [
              "<IPython.core.display.SVG object>"
            ],
            "image/svg+xml": "<svg height=\"50pt\" viewBox=\"0.00 0.00 452.39 49.60\" width=\"452pt\" xmlns=\"http://www.w3.org/2000/svg\" xmlns:xlink=\"http://www.w3.org/1999/xlink\">\n<g class=\"graph\" id=\"graph0\" transform=\"scale(1 1) rotate(0) translate(4 45.5963)\">\n<title>Lista</title>\n<polygon fill=\"#ffffff\" points=\"-4,4 -4,-45.5963 448.3852,-45.5963 448.3852,4 -4,4\" stroke=\"transparent\"/>\n<!-- HEAD -->\n<g class=\"node\" id=\"node1\">\n<title>HEAD</title>\n<text fill=\"#000000\" font-family=\"Times,serif\" font-size=\"14.00\" text-anchor=\"middle\" x=\"31\" y=\"-17.0982\">primero</text>\n</g>\n<!-- 44 -->\n<g class=\"node\" id=\"node3\">\n<title>44</title>\n<ellipse cx=\"118.7982\" cy=\"-20.7982\" fill=\"none\" rx=\"20.5982\" ry=\"20.5982\" stroke=\"#000000\"/>\n<text fill=\"#000000\" font-family=\"Times,serif\" font-size=\"14.00\" text-anchor=\"middle\" x=\"118.7982\" y=\"-17.0982\">44</text>\n</g>\n<!-- HEAD&#45;&gt;44 -->\n<g class=\"edge\" id=\"edge1\">\n<title>HEAD-&gt;44</title>\n<path d=\"M62.2016,-20.7982C70.519,-20.7982 79.5018,-20.7982 87.8079,-20.7982\" fill=\"none\" stroke=\"#000000\"/>\n<polygon fill=\"#000000\" points=\"87.866,-24.2983 97.8659,-20.7982 87.8659,-17.2983 87.866,-24.2983\" stroke=\"#000000\"/>\n</g>\n<!-- NULL -->\n<g class=\"node\" id=\"node2\">\n<title>NULL</title>\n<polygon fill=\"none\" points=\"444.3852,-38.7982 408.3852,-38.7982 408.3852,-2.7982 444.3852,-2.7982 444.3852,-38.7982\" stroke=\"#000000\"/>\n</g>\n<!-- 13 -->\n<g class=\"node\" id=\"node4\">\n<title>13</title>\n<ellipse cx=\"196.3945\" cy=\"-20.7982\" fill=\"none\" rx=\"20.5982\" ry=\"20.5982\" stroke=\"#000000\"/>\n<text fill=\"#000000\" font-family=\"Times,serif\" font-size=\"14.00\" text-anchor=\"middle\" x=\"196.3945\" y=\"-17.0982\">13</text>\n</g>\n<!-- 44&#45;&gt;13 -->\n<g class=\"edge\" id=\"edge2\">\n<title>44-&gt;13</title>\n<path d=\"M140.0017,-20.7982C147.8495,-20.7982 156.9158,-20.7982 165.4525,-20.7982\" fill=\"none\" stroke=\"#000000\"/>\n<polygon fill=\"#000000\" points=\"165.4853,-24.2983 175.4852,-20.7982 165.4852,-17.2983 165.4853,-24.2983\" stroke=\"#000000\"/>\n</g>\n<!-- 65 -->\n<g class=\"node\" id=\"node5\">\n<title>65</title>\n<ellipse cx=\"273.9908\" cy=\"-20.7982\" fill=\"none\" rx=\"20.5982\" ry=\"20.5982\" stroke=\"#000000\"/>\n<text fill=\"#000000\" font-family=\"Times,serif\" font-size=\"14.00\" text-anchor=\"middle\" x=\"273.9908\" y=\"-17.0982\">65</text>\n</g>\n<!-- 13&#45;&gt;65 -->\n<g class=\"edge\" id=\"edge3\">\n<title>13-&gt;65</title>\n<path d=\"M217.598,-20.7982C225.4458,-20.7982 234.5121,-20.7982 243.0488,-20.7982\" fill=\"none\" stroke=\"#000000\"/>\n<polygon fill=\"#000000\" points=\"243.0816,-24.2983 253.0815,-20.7982 243.0815,-17.2983 243.0816,-24.2983\" stroke=\"#000000\"/>\n</g>\n<!-- 42 -->\n<g class=\"node\" id=\"node6\">\n<title>42</title>\n<ellipse cx=\"351.5871\" cy=\"-20.7982\" fill=\"none\" rx=\"20.5982\" ry=\"20.5982\" stroke=\"#000000\"/>\n<text fill=\"#000000\" font-family=\"Times,serif\" font-size=\"14.00\" text-anchor=\"middle\" x=\"351.5871\" y=\"-17.0982\">42</text>\n</g>\n<!-- 65&#45;&gt;42 -->\n<g class=\"edge\" id=\"edge4\">\n<title>65-&gt;42</title>\n<path d=\"M295.1943,-20.7982C303.0421,-20.7982 312.1084,-20.7982 320.6451,-20.7982\" fill=\"none\" stroke=\"#000000\"/>\n<polygon fill=\"#000000\" points=\"320.6779,-24.2983 330.6779,-20.7982 320.6778,-17.2983 320.6779,-24.2983\" stroke=\"#000000\"/>\n</g>\n<!-- 42&#45;&gt;NULL -->\n<g class=\"edge\" id=\"edge5\">\n<title>42-&gt;NULL</title>\n<path d=\"M372.4225,-20.7982C380.325,-20.7982 389.4638,-20.7982 397.9487,-20.7982\" fill=\"none\" stroke=\"#000000\"/>\n<polygon fill=\"#000000\" points=\"398.2041,-24.2983 408.2041,-20.7982 398.2041,-17.2983 398.2041,-24.2983\" stroke=\"#000000\"/>\n</g>\n</g>\n</svg>"
          },
          "metadata": {}
        }
      ]
    },
    {
      "cell_type": "code",
      "source": [
        "L1 = Lista()\n",
        "L1.dibujar()\n",
        "L1.reversar()\n",
        "L1.dibujar()"
      ],
      "metadata": {
        "id": "ZjhgbfmVeD4U",
        "colab": {
          "base_uri": "https://localhost:8080/",
          "height": 142
        },
        "outputId": "c41911dd-d2f4-4cd9-889a-f418a2ca9724"
      },
      "execution_count": null,
      "outputs": [
        {
          "output_type": "display_data",
          "data": {
            "text/plain": [
              "<IPython.core.display.SVG object>"
            ],
            "image/svg+xml": "<svg height=\"44pt\" viewBox=\"0.00 0.00 142.00 44.00\" width=\"142pt\" xmlns=\"http://www.w3.org/2000/svg\" xmlns:xlink=\"http://www.w3.org/1999/xlink\">\n<g class=\"graph\" id=\"graph0\" transform=\"scale(1 1) rotate(0) translate(4 40)\">\n<title>Lista</title>\n<polygon fill=\"#ffffff\" points=\"-4,4 -4,-40 138,-40 138,4 -4,4\" stroke=\"transparent\"/>\n<!-- HEAD -->\n<g class=\"node\" id=\"node1\">\n<title>HEAD</title>\n<text fill=\"#000000\" font-family=\"Times,serif\" font-size=\"14.00\" text-anchor=\"middle\" x=\"31\" y=\"-14.3\">primero</text>\n</g>\n<!-- NULL -->\n<g class=\"node\" id=\"node2\">\n<title>NULL</title>\n<polygon fill=\"none\" points=\"134,-36 98,-36 98,0 134,0 134,-36\" stroke=\"#000000\"/>\n</g>\n<!-- HEAD&#45;&gt;NULL -->\n<g class=\"edge\" id=\"edge1\">\n<title>HEAD-&gt;NULL</title>\n<path d=\"M62.1682,-18C70.4702,-18 79.3946,-18 87.543,-18\" fill=\"none\" stroke=\"#000000\"/>\n<polygon fill=\"#000000\" points=\"87.6903,-21.5001 97.6903,-18 87.6903,-14.5001 87.6903,-21.5001\" stroke=\"#000000\"/>\n</g>\n</g>\n</svg>"
          },
          "metadata": {}
        },
        {
          "output_type": "display_data",
          "data": {
            "text/plain": [
              "<IPython.core.display.SVG object>"
            ],
            "image/svg+xml": "<svg height=\"44pt\" viewBox=\"0.00 0.00 142.00 44.00\" width=\"142pt\" xmlns=\"http://www.w3.org/2000/svg\" xmlns:xlink=\"http://www.w3.org/1999/xlink\">\n<g class=\"graph\" id=\"graph0\" transform=\"scale(1 1) rotate(0) translate(4 40)\">\n<title>Lista</title>\n<polygon fill=\"#ffffff\" points=\"-4,4 -4,-40 138,-40 138,4 -4,4\" stroke=\"transparent\"/>\n<!-- HEAD -->\n<g class=\"node\" id=\"node1\">\n<title>HEAD</title>\n<text fill=\"#000000\" font-family=\"Times,serif\" font-size=\"14.00\" text-anchor=\"middle\" x=\"31\" y=\"-14.3\">primero</text>\n</g>\n<!-- NULL -->\n<g class=\"node\" id=\"node2\">\n<title>NULL</title>\n<polygon fill=\"none\" points=\"134,-36 98,-36 98,0 134,0 134,-36\" stroke=\"#000000\"/>\n</g>\n<!-- HEAD&#45;&gt;NULL -->\n<g class=\"edge\" id=\"edge1\">\n<title>HEAD-&gt;NULL</title>\n<path d=\"M62.1682,-18C70.4702,-18 79.3946,-18 87.543,-18\" fill=\"none\" stroke=\"#000000\"/>\n<polygon fill=\"#000000\" points=\"87.6903,-21.5001 97.6903,-18 87.6903,-14.5001 87.6903,-21.5001\" stroke=\"#000000\"/>\n</g>\n</g>\n</svg>"
          },
          "metadata": {}
        }
      ]
    },
    {
      "cell_type": "code",
      "source": [
        "L2 = Lista()\n",
        "L2.insertar_al_inicio(12)\n",
        "L2.dibujar()\n",
        "L2.reversar()\n",
        "L2.dibujar()"
      ],
      "metadata": {
        "id": "-2uJX0TceJes",
        "colab": {
          "base_uri": "https://localhost:8080/",
          "height": 158
        },
        "outputId": "dcd7381e-3c70-48b6-b9e8-7852577a1970"
      },
      "execution_count": null,
      "outputs": [
        {
          "output_type": "display_data",
          "data": {
            "text/plain": [
              "<IPython.core.display.SVG object>"
            ],
            "image/svg+xml": "<svg height=\"50pt\" viewBox=\"0.00 0.00 219.60 49.60\" width=\"220pt\" xmlns=\"http://www.w3.org/2000/svg\" xmlns:xlink=\"http://www.w3.org/1999/xlink\">\n<g class=\"graph\" id=\"graph0\" transform=\"scale(1 1) rotate(0) translate(4 45.5963)\">\n<title>Lista</title>\n<polygon fill=\"#ffffff\" points=\"-4,4 -4,-45.5963 215.5963,-45.5963 215.5963,4 -4,4\" stroke=\"transparent\"/>\n<!-- HEAD -->\n<g class=\"node\" id=\"node1\">\n<title>HEAD</title>\n<text fill=\"#000000\" font-family=\"Times,serif\" font-size=\"14.00\" text-anchor=\"middle\" x=\"31\" y=\"-17.0982\">primero</text>\n</g>\n<!-- 12 -->\n<g class=\"node\" id=\"node3\">\n<title>12</title>\n<ellipse cx=\"118.7982\" cy=\"-20.7982\" fill=\"none\" rx=\"20.5982\" ry=\"20.5982\" stroke=\"#000000\"/>\n<text fill=\"#000000\" font-family=\"Times,serif\" font-size=\"14.00\" text-anchor=\"middle\" x=\"118.7982\" y=\"-17.0982\">12</text>\n</g>\n<!-- HEAD&#45;&gt;12 -->\n<g class=\"edge\" id=\"edge1\">\n<title>HEAD-&gt;12</title>\n<path d=\"M62.2016,-20.7982C70.519,-20.7982 79.5018,-20.7982 87.8079,-20.7982\" fill=\"none\" stroke=\"#000000\"/>\n<polygon fill=\"#000000\" points=\"87.866,-24.2983 97.8659,-20.7982 87.8659,-17.2983 87.866,-24.2983\" stroke=\"#000000\"/>\n</g>\n<!-- NULL -->\n<g class=\"node\" id=\"node2\">\n<title>NULL</title>\n<polygon fill=\"none\" points=\"211.5963,-38.7982 175.5963,-38.7982 175.5963,-2.7982 211.5963,-2.7982 211.5963,-38.7982\" stroke=\"#000000\"/>\n</g>\n<!-- 12&#45;&gt;NULL -->\n<g class=\"edge\" id=\"edge2\">\n<title>12-&gt;NULL</title>\n<path d=\"M139.6336,-20.7982C147.536,-20.7982 156.6749,-20.7982 165.1597,-20.7982\" fill=\"none\" stroke=\"#000000\"/>\n<polygon fill=\"#000000\" points=\"165.4152,-24.2983 175.4152,-20.7982 165.4151,-17.2983 165.4152,-24.2983\" stroke=\"#000000\"/>\n</g>\n</g>\n</svg>"
          },
          "metadata": {}
        },
        {
          "output_type": "display_data",
          "data": {
            "text/plain": [
              "<IPython.core.display.SVG object>"
            ],
            "image/svg+xml": "<svg height=\"50pt\" viewBox=\"0.00 0.00 219.60 49.60\" width=\"220pt\" xmlns=\"http://www.w3.org/2000/svg\" xmlns:xlink=\"http://www.w3.org/1999/xlink\">\n<g class=\"graph\" id=\"graph0\" transform=\"scale(1 1) rotate(0) translate(4 45.5963)\">\n<title>Lista</title>\n<polygon fill=\"#ffffff\" points=\"-4,4 -4,-45.5963 215.5963,-45.5963 215.5963,4 -4,4\" stroke=\"transparent\"/>\n<!-- HEAD -->\n<g class=\"node\" id=\"node1\">\n<title>HEAD</title>\n<text fill=\"#000000\" font-family=\"Times,serif\" font-size=\"14.00\" text-anchor=\"middle\" x=\"31\" y=\"-17.0982\">primero</text>\n</g>\n<!-- 12 -->\n<g class=\"node\" id=\"node3\">\n<title>12</title>\n<ellipse cx=\"118.7982\" cy=\"-20.7982\" fill=\"none\" rx=\"20.5982\" ry=\"20.5982\" stroke=\"#000000\"/>\n<text fill=\"#000000\" font-family=\"Times,serif\" font-size=\"14.00\" text-anchor=\"middle\" x=\"118.7982\" y=\"-17.0982\">12</text>\n</g>\n<!-- HEAD&#45;&gt;12 -->\n<g class=\"edge\" id=\"edge1\">\n<title>HEAD-&gt;12</title>\n<path d=\"M62.2016,-20.7982C70.519,-20.7982 79.5018,-20.7982 87.8079,-20.7982\" fill=\"none\" stroke=\"#000000\"/>\n<polygon fill=\"#000000\" points=\"87.866,-24.2983 97.8659,-20.7982 87.8659,-17.2983 87.866,-24.2983\" stroke=\"#000000\"/>\n</g>\n<!-- NULL -->\n<g class=\"node\" id=\"node2\">\n<title>NULL</title>\n<polygon fill=\"none\" points=\"211.5963,-38.7982 175.5963,-38.7982 175.5963,-2.7982 211.5963,-2.7982 211.5963,-38.7982\" stroke=\"#000000\"/>\n</g>\n<!-- 12&#45;&gt;NULL -->\n<g class=\"edge\" id=\"edge2\">\n<title>12-&gt;NULL</title>\n<path d=\"M139.6336,-20.7982C147.536,-20.7982 156.6749,-20.7982 165.1597,-20.7982\" fill=\"none\" stroke=\"#000000\"/>\n<polygon fill=\"#000000\" points=\"165.4152,-24.2983 175.4152,-20.7982 165.4151,-17.2983 165.4152,-24.2983\" stroke=\"#000000\"/>\n</g>\n</g>\n</svg>"
          },
          "metadata": {}
        }
      ]
    }
  ]
}