{
  "nbformat": 4,
  "nbformat_minor": 0,
  "metadata": {
    "colab": {
      "provenance": [],
      "collapsed_sections": []
    },
    "kernelspec": {
      "name": "python3",
      "display_name": "Python 3"
    },
    "language_info": {
      "name": "python"
    }
  },
  "cells": [
    {
      "cell_type": "markdown",
      "source": [
        "### Ejercicio 4.4 [Juan-B. Espinoza]\n",
        "### Por favor, asegúrese de dar permisos para la corrección. La entrega sin los permisos correspondientes será considerada como no-entrega. \n",
        "\n",
        "Suponga que los campos ``info`` de los nodos externos de un árbol contienen solo números y escriba una función que pueda invocarse como ``formula.evaluar()``, que al ser ejecutada entregue el valor numérico  de la fórmula representada por el árbol. Modifique a continuación la definición de las clases ``Arbol``, ``Nodoi`` y ``Nodoe`` para que que incluyan la nueva función ``evaluar()``. Note que tiene que implementar la función ``evaluar()`` en las tres clases."
      ],
      "metadata": {
        "id": "LuSYQO_YCfnT"
      }
    },
    {
      "cell_type": "code",
      "source": [
        "class Nodoi:\n",
        "    def __init__(self, izq, info, der):\n",
        "        self.izq=izq\n",
        "        self.info=info\n",
        "        self.der=der\n",
        "    def evaluar(self):\n",
        "        if self.info==\"*\":  #clasificar el operador\n",
        "          return self.izq.evaluar()*self.der.evaluar()\n",
        "        if self.info==\"/\":\n",
        "          return self.izq.evaluar()/self.der.evaluar()\n",
        "        if self.info==\"+\":\n",
        "          return self.izq.evaluar()+self.der.evaluar()\n",
        "        if self.info==\"-\":\n",
        "          return self.izq.evaluar()-self.der.evaluar()\n",
        "\n",
        "class Nodoe:\n",
        "    def __init__(self, info=\"\"):\n",
        "        self.info=info\n",
        "    def evaluar(self):\n",
        "        return self.info #dejar el valor info en los Nodoe\n",
        "\n",
        "class Arbol:\n",
        "    def __init__(self,raiz=Nodoe()):\n",
        "        self.raiz=raiz\n",
        "    def evaluar(self):\n",
        "        return self.raiz.evaluar()"
      ],
      "metadata": {
        "id": "6s-UXPxBC84j"
      },
      "execution_count": null,
      "outputs": []
    },
    {
      "cell_type": "markdown",
      "source": [
        "Pruébela a continuación:"
      ],
      "metadata": {
        "id": "mGAFgzX6C9xo"
      }
    },
    {
      "cell_type": "code",
      "source": [
        "formula = Arbol(\n",
        "            Nodoi(\n",
        "                Nodoi(Nodoe(5),\"+\",Nodoe(2)),\n",
        "                \"*\",\n",
        "                Nodoi(\n",
        "                    Nodoe(8),\n",
        "                    \"-\",\n",
        "                    Nodoi(Nodoe(9),\"/\",Nodoe(3))\n",
        "                )\n",
        "            )\n",
        "        )\n",
        "\n",
        "print(formula.evaluar())"
      ],
      "metadata": {
        "id": "hqgf7pu-C_3e",
        "colab": {
          "base_uri": "https://localhost:8080/"
        },
        "outputId": "fdfb9b68-1144-4a46-d523-3578b8a2b177"
      },
      "execution_count": null,
      "outputs": [
        {
          "output_type": "stream",
          "name": "stdout",
          "text": [
            "35.0\n"
          ]
        }
      ]
    }
  ]
}