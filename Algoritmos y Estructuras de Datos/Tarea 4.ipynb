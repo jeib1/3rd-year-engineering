{
  "nbformat": 4,
  "nbformat_minor": 0,
  "metadata": {
    "colab": {
      "provenance": []
    },
    "kernelspec": {
      "name": "python3",
      "display_name": "Python 3"
    },
    "language_info": {
      "name": "python"
    }
  },
  "cells": [
    {
      "cell_type": "markdown",
      "source": [
        "## CC3001 Otoño 2022 Tarea 4 [JUAN ESPINOZA C.]\n",
        "\n",
        "## Expandir listas (No recursivo)\n",
        "\n",
        "### Profesores\n",
        "Sección 1 Iván Sipirán •\n",
        "Sección 2 Patricio Poblete •\n",
        "Sección 3 Nelson Baloian"
      ],
      "metadata": {
        "id": "g-KDBsV_H8GT"
      }
    },
    {
      "cell_type": "markdown",
      "source": [
        "# Enunciado\n",
        "\n",
        "En esta tarea se deberá implementar una función ``expandir(L)`` que construya y retorne una lista expandida a partir de otra lista dada ``L``, de la manera que se indica a continuación.\n",
        "\n",
        "La entrada para la función es una lista python que contiene elementos que pueden ser de tipo lista, tupla o un valor simple de cualquier tipo. El resultado debe ser una lista solo con elementos simples, que resulta de aplicar las siguientes reglas a cada elemento de la lista original: \n",
        "  - si el elemento es un valor simple, éste se agrega a la lista resultante \n",
        "   - Ejemplo: si la lista de entrada es $[2, 3]$ la lista de salida es $[2,3]$ \n",
        "  - si el elemento es a su vez también una lista, entonces cada uno de los    elementos de esa lista lista se agrega a la lista resultante como un elemento más. \n",
        "   - Ejemplo: si la lista de entrada es $[2, 3, [1, 2]]$ la lista de salida es $[2,3,1,2] $\n",
        "  - si el elemento es una tupla, entonces el primer elemento será un entero, digamos $x$ y el segundo una lista que llamaremos $s$. En este caso, hay que agregar $x$ veces los elementos de la lista $s$. \n",
        "    - Ejemplo: si la lista de entrada contiene $[1, (2,[2,3])]$ la lista de salida es $[1, 2, 3, 2, 3] $\n",
        "\n",
        "Lo que hace interesante este problema, es que cada elemento de una lista puede ser a su vez necesitar una expansión como explicamos anteriormente (elementos simples, listas o tuplas). **Esta vez, en lugar de solucionar el problema recursivamente, debe hacerlo de manera iterativa y usando una pila.**\n",
        "    \n",
        "   - Ejemplo: una lista de entrada puede ser $[5,[2,[2,[2,4,[0,(3,[1,2])]]]]]$ y la salida debe ser $[5, 2, 2, 2, 4, 0, 1, 2, 1, 2, 1, 2]$\n",
        "\n",
        "   Se le pide entonces escribir la función siguiente: "
      ],
      "metadata": {
        "id": "6hj-9_4tIBxj"
      }
    },
    {
      "cell_type": "code",
      "execution_count": null,
      "metadata": {
        "id": "5NOAHb7tiy9F"
      },
      "outputs": [],
      "source": [
        "class Pila:\n",
        "    def __init__(self):\n",
        "        self.s=[]\n",
        "    def push(self,x):\n",
        "        self.s.append(x)\n",
        "    def pop(self):\n",
        "        assert len(self.s)>0\n",
        "        return self.s.pop() \n",
        "    def is_empty(self):\n",
        "        return len(self.s)==0\n",
        "\n",
        "def expandir(L):\n",
        "    q=[]  #lista final \n",
        "    p=Pila()  #se crea una pila\n",
        "    if type(L)==tuple: #si es una tupla se integra a la pila de una vez, porque se separan los elementos de la tupla con el for de adelante\n",
        "        p.push(L)\n",
        "    else:\n",
        "        for x in L: #en otros casos se integra por partes, por ej. listas\n",
        "            p.push(x)\n",
        "    while not p.is_empty(): #mientras no este vacia...\n",
        "        a=p.pop() #se popea el elemento superior\n",
        "        if type(a)==int: #si es un int, se integra a la lista final\n",
        "            q=[a]+q\n",
        "        if type(a)==list: #si es una lista se integra a la pila por partes\n",
        "            for x in a:\n",
        "                p.push(x)\n",
        "        if type(a)==tuple: #si es una tupla, se integra a la pila multiplicando por el primer elemento de la tupla\n",
        "            p.push(a[0]*a[1])\n",
        "    return q"
      ]
    },
    {
      "cell_type": "markdown",
      "source": [
        "Para chequear si su función hace lo que requiere use los siguientes chequeos:"
      ],
      "metadata": {
        "id": "Bct_f9FIIbNX"
      }
    },
    {
      "cell_type": "code",
      "source": [
        "if expandir([1,2,3]) == [1,2,3]: print(\"OK\"); \n",
        "else: print(\"Error\")\n",
        "if expandir([1, (2, [2, 3, [1, 2]]),5]) == [1, 2, 3, 1, 2, 2, 3, 1, 2, 5]: print(\"OK\"); \n",
        "else: print(\"Error\")\n",
        "if expandir([1, (5,[1,3])]) == [1, 1, 3, 1, 3, 1, 3, 1, 3, 1, 3]: print(\"OK\");\n",
        "else: print(\"Error\")\n",
        "if expandir([]) == []: print(\"OK\"); \n",
        "else: print(\"Error\")\n",
        "if expandir([2,(3,[5,3,[2,(3,[2,4])]])]) == [2, 5, 3, 2, 2, 4, 2, 4, 2, 4, 5, 3, 2, 2, 4, 2, 4, 2, 4, 5, 3, 2, 2, 4, 2, 4, 2, 4]: \n",
        "  print(\"OK\"); \n",
        "else: print(\"Error\")\n",
        "if expandir([3, (2, [1, (5,[1,3])])]) == [3, 1, 1, 3, 1, 3, 1, 3, 1, 3, 1, 3, 1, 1, 3, 1, 3, 1, 3, 1, 3, 1, 3]:\n",
        "  print(\"OK\")\n",
        "else: print(\"Error\")"
      ],
      "metadata": {
        "id": "R2b-Vki_IcC2",
        "colab": {
          "base_uri": "https://localhost:8080/"
        },
        "outputId": "24aa0648-d331-4249-b00e-ef834b38533e"
      },
      "execution_count": null,
      "outputs": [
        {
          "output_type": "stream",
          "name": "stdout",
          "text": [
            "OK\n",
            "OK\n",
            "OK\n",
            "OK\n",
            "OK\n",
            "OK\n"
          ]
        }
      ]
    },
    {
      "cell_type": "markdown",
      "source": [
        "## ¿Qué hay que entregar?\n",
        "\n",
        "Usted debe crear una copia de este documento (del menú seleccionar \"Archivo\" o \"File\" y de ahi la opción \"guardar copia en Drive\" o \"save a copy in Drive\"). Este nuevo documento (notebook de Colab) es el que debe modificar para luego compartirlo con la opción \"Cualquier usuario de internet con este enlace puede ver esto\" (o “Anyone on the internet with this link can view”). Esta opción se encuentra disponible en la parte superior derecha de su notebook, en el botón \"Compartir\" (o \"Share\"). Una vez que tenga disponible el enlace, colocarlo en la descripción de la entrega de su tarea. No olvide colocar su nombre dentro del notebook."
      ],
      "metadata": {
        "id": "A1olLjnVIht4"
      }
    },
    {
      "cell_type": "code",
      "source": [],
      "metadata": {
        "id": "VPko2wWKIiYu"
      },
      "execution_count": null,
      "outputs": []
    }
  ]
}