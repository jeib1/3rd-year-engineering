{
  "nbformat": 4,
  "nbformat_minor": 0,
  "metadata": {
    "colab": {
      "provenance": [],
      "collapsed_sections": []
    },
    "kernelspec": {
      "name": "python3",
      "display_name": "Python 3"
    },
    "language_info": {
      "name": "python"
    }
  },
  "cells": [
    {
      "cell_type": "markdown",
      "source": [
        "# CC3001 Otoño 2022 Tarea 5 [Juan-Bastian Espinoza C.]\n",
        "\n",
        "## ABB+\n",
        "\n",
        "### Profesores\n",
        "Sección 1 Iván Sipirán •\n",
        "Sección 2 Patricio Poblete •\n",
        "Sección 3 Nelson Baloian\n",
        "\n"
      ],
      "metadata": {
        "id": "deCM246B_yVT"
      }
    },
    {
      "cell_type": "code",
      "source": [
        "!pip install aed-utilities\n",
        "\n",
        "import aed_utilities as aed\n",
        "import numpy as np"
      ],
      "metadata": {
        "id": "TgslhNA3Pivn",
        "outputId": "c6abc730-50a2-4608-9c93-dc1f25ffe8c1",
        "colab": {
          "base_uri": "https://localhost:8080/"
        }
      },
      "execution_count": null,
      "outputs": [
        {
          "output_type": "stream",
          "name": "stdout",
          "text": [
            "Looking in indexes: https://pypi.org/simple, https://us-python.pkg.dev/colab-wheels/public/simple/\n",
            "Collecting aed-utilities\n",
            "  Downloading aed_utilities-0.5.5.tar.gz (4.3 kB)\n",
            "Collecting validators\n",
            "  Downloading validators-0.20.0.tar.gz (30 kB)\n",
            "Requirement already satisfied: beautifulsoup4 in /usr/local/lib/python3.7/dist-packages (from aed-utilities) (4.6.3)\n",
            "Requirement already satisfied: decorator>=3.4.0 in /usr/local/lib/python3.7/dist-packages (from validators->aed-utilities) (4.4.2)\n",
            "Building wheels for collected packages: aed-utilities, validators\n",
            "  Building wheel for aed-utilities (setup.py) ... \u001b[?25l\u001b[?25hdone\n",
            "  Created wheel for aed-utilities: filename=aed_utilities-0.5.5-py3-none-any.whl size=4564 sha256=37603e60ab308d1449468b79da315d0f42950c5893576b7444d769cd6edcacf5\n",
            "  Stored in directory: /root/.cache/pip/wheels/2d/64/b6/2c18bd50056c3a5929296ea7a70550297d808b4df57a806164\n",
            "  Building wheel for validators (setup.py) ... \u001b[?25l\u001b[?25hdone\n",
            "  Created wheel for validators: filename=validators-0.20.0-py3-none-any.whl size=19582 sha256=e83a1fdd830779a2829b036c0bb20d1bc8162f4236bf243c9adf62a04eae21d7\n",
            "  Stored in directory: /root/.cache/pip/wheels/5f/55/ab/36a76989f7f88d9ca7b1f68da6d94252bb6a8d6ad4f18e04e9\n",
            "Successfully built aed-utilities validators\n",
            "Installing collected packages: validators, aed-utilities\n",
            "Successfully installed aed-utilities-0.5.5 validators-0.20.0\n"
          ]
        }
      ]
    },
    {
      "cell_type": "markdown",
      "source": [
        "## Introducción\n",
        "\n",
        "Un *árbol de búsqueda binaria+* (*ABB+*) es un ABB modificado para que las $n$ llaves que están almacenadas en los nodos internos aparezcan además en las hojas, en orden ascendente,de izquierda a derecha. La última hoja de la derecha tiene una llave especial ``inf``(\"$+\\infty$\"), como se ve en el siguiente ejemplo:\n",
        "\n",
        "![Ejemplo ABB+](https://drive.google.com/uc?export=view&id=1-SAU_CJ_nHd63KgOpZAUO1-AiiHlvu6g)\n",
        "\n",
        "Para buscar una llave $x$ en este árbol, comenzamos en la raíz y vamos preguntando si $x$ es $\\le$ que la llave de ese nodo. Si la respuesta es que sí, bajamos hacia la izquierda; si no, bajamos hacia la derecha. Al llegar finalmente a una hoja, ahí se compara por igualdad para ver si la llave buscada está ahí o no.\n",
        "\n",
        "En comparación con un ABB, el correspondiente ABB+ hace búsquedas más eficientes, porque hace solo una pregunta por nodo, en lugar de las dos que se hacen en el ABB (primero preguntando por igualdad y luego por menor o mayor).\n",
        "\n",
        "Nótese que un ABB+ vacío (cero llaves) consiste de una sola hoja con ``inf``en su interior."
      ],
      "metadata": {
        "id": "WJAI-Lep7jKt"
      }
    },
    {
      "cell_type": "markdown",
      "source": [
        "## Objetivo de la tarea\n",
        "\n",
        "Su trabajo consiste en implementar las clases ``Arbol``, ``Nodoi`` y ``Nodoe`` y los métodos ``insert`` y ``search`` en todos lugares en donde corresponda (no se pide implementar ``delete``). Luego debe ejecutar los casos de prueba que se indica.\n",
        "\n",
        "Esta tarea se puede resolver con recursividad o sin recursividad. Usted debe decidir cuál enfoque usar.\n",
        "\n",
        "En el código que aparece a continuación usted debe agregar todo lo necesario para que la implementación esté completa."
      ],
      "metadata": {
        "id": "4KFJDmzuG0jF"
      }
    },
    {
      "cell_type": "code",
      "source": [
        "class Nodoi:\n",
        "    def __init__(self, izq, info, der):\n",
        "        self.izq=izq\n",
        "        self.info=info\n",
        "        self.der=der\n",
        "        \n",
        "    def search(self,x):\n",
        "        if x<=self.info: #si x es menor igual bajamos a izq\n",
        "            return self.izq.search(x)\n",
        "        else:\n",
        "            return self.der.search(x) #si no bajamos a der \n",
        "        \n",
        "    def insert(self,x):\n",
        "        if x<self.info:   #si el nodo que queremos insertar es menor, lo insertamos en la izq\n",
        "            return Nodoi(self.izq.insert(x),self.info,self.der)\n",
        "        else:\n",
        "            return Nodoi(self.izq,self.info,self.der.insert(x)) #de otra manera lo insertamos a al der\n",
        "\n",
        "class Nodoe:\n",
        "    def __init__(self,info):\n",
        "        self.info=info\n",
        "    \n",
        "    def search(self,x):\n",
        "        if x==self.info: #finalmente comparamos en la hoja\n",
        "          return 1 #1 si esta\n",
        "        else: return None #none si no\n",
        "\n",
        "    def insert(self,x):\n",
        "        return Nodoi(Nodoe(x),x,Nodoe(self.info)) #a la izq de la hoja ira la el nodo, y a la derecha la info del nodo anterior\n",
        "\n",
        "class Arbol:\n",
        "    def __init__(self,raiz=Nodoe(np.inf)):\n",
        "        self.raiz=raiz     \n",
        "        \n",
        "    def insert(self,x):\n",
        "        self.raiz=self.raiz.insert(x)\n",
        "        \n",
        "    def search(self,x):\n",
        "        return self.raiz.search(x)\n",
        "    \n",
        "    def dibujar(self):\n",
        "      btd = aed.BinaryTreeDrawer(fieldData=\"info\", fieldLeft=\"izq\", fieldRight=\"der\", classNone=Nodoe)\n",
        "      btd.draw_tree(self, \"raiz\")"
      ],
      "metadata": {
        "id": "u9r5rdeVIh-M"
      },
      "execution_count": null,
      "outputs": []
    },
    {
      "cell_type": "markdown",
      "source": [
        "La siguiente función es útil para probar su implementación:"
      ],
      "metadata": {
        "id": "HCxFXP1lJqr5"
      }
    },
    {
      "cell_type": "code",
      "source": [
        "def test(a,x):\n",
        "    print(x, \"está\" if a.search(x) is not None else \"no está\")"
      ],
      "metadata": {
        "id": "KSZUXuskJxTz"
      },
      "execution_count": null,
      "outputs": []
    },
    {
      "cell_type": "markdown",
      "source": [
        "## Prueba 1: Construir un árbol por inserciones sucesivas"
      ],
      "metadata": {
        "id": "Z-gp17XpJ3lF"
      }
    },
    {
      "cell_type": "code",
      "source": [
        "a=Arbol()\n",
        "a.insert(40)\n",
        "a.insert(25)\n",
        "a.insert(32)\n",
        "a.insert(90)\n",
        "a.insert(62)\n",
        "a.insert(55)\n",
        "a.insert(70)\n",
        "a.dibujar()\n",
        "test(a,62)\n",
        "test(a,95)"
      ],
      "metadata": {
        "id": "vWSH6OGmKCec",
        "outputId": "c82fccb9-bb79-4627-a02a-25e6ec80e62a",
        "colab": {
          "base_uri": "https://localhost:8080/",
          "height": 346
        }
      },
      "execution_count": null,
      "outputs": [
        {
          "output_type": "display_data",
          "data": {
            "text/plain": [
              "<IPython.core.display.SVG object>"
            ],
            "image/svg+xml": "<svg height=\"217pt\" viewBox=\"0.00 0.00 514.40 216.80\" width=\"514pt\" xmlns=\"http://www.w3.org/2000/svg\" xmlns:xlink=\"http://www.w3.org/1999/xlink\">\n<g class=\"graph\" id=\"graph0\" transform=\"scale(1 1) rotate(0) translate(4 212.8)\">\n<title>Arbol</title>\n<polygon fill=\"#ffffff\" points=\"-4,4 -4,-212.8 510.4,-212.8 510.4,4 -4,4\" stroke=\"transparent\"/>\n<!-- node0 -->\n<g class=\"node\" id=\"node1\">\n<title>node0</title>\n<polygon fill=\"none\" points=\"36,-122.4 0,-122.4 0,-86.4 36,-86.4 36,-122.4\" stroke=\"#000000\"/>\n<text fill=\"#000000\" font-family=\"Times,serif\" font-size=\"14.00\" text-anchor=\"middle\" x=\"18\" y=\"-100.7\">25</text>\n</g>\n<!-- node4 -->\n<g class=\"node\" id=\"node2\">\n<title>node4</title>\n<ellipse cx=\"51.6\" cy=\"-147.6\" fill=\"none\" rx=\"18\" ry=\"18\" stroke=\"#000000\"/>\n<text fill=\"#000000\" font-family=\"Times,serif\" font-size=\"14.00\" text-anchor=\"middle\" x=\"51.6\" y=\"-143.9\">25</text>\n</g>\n<!-- node4&#45;&#45;node0 -->\n<g class=\"edge\" id=\"edge2\">\n<title>node4--node0</title>\n<path d=\"M40.2246,-132.9745C37.6354,-129.6455 34.8536,-126.0689 32.1642,-122.6111\" fill=\"none\" stroke=\"#000000\"/>\n</g>\n<!-- node3 -->\n<g class=\"node\" id=\"node4\">\n<title>node3</title>\n<ellipse cx=\"118.8\" cy=\"-104.4\" fill=\"none\" rx=\"18\" ry=\"18\" stroke=\"#000000\"/>\n<text fill=\"#000000\" font-family=\"Times,serif\" font-size=\"14.00\" text-anchor=\"middle\" x=\"118.8\" y=\"-100.7\">32</text>\n</g>\n<!-- node4&#45;&#45;node3 -->\n<g class=\"edge\" id=\"edge3\">\n<title>node4--node3</title>\n<path d=\"M66.8487,-137.7973C77.8464,-130.7273 92.6278,-121.225 103.6116,-114.164\" fill=\"none\" stroke=\"#000000\"/>\n</g>\n<!-- node1 -->\n<g class=\"node\" id=\"node3\">\n<title>node1</title>\n<polygon fill=\"none\" points=\"103.2,-79.2 67.2,-79.2 67.2,-43.2 103.2,-43.2 103.2,-79.2\" stroke=\"#000000\"/>\n<text fill=\"#000000\" font-family=\"Times,serif\" font-size=\"14.00\" text-anchor=\"middle\" x=\"85.2\" y=\"-57.5\">32</text>\n</g>\n<!-- node3&#45;&#45;node1 -->\n<g class=\"edge\" id=\"edge4\">\n<title>node3--node1</title>\n<path d=\"M107.4246,-89.7744C104.8354,-86.4455 102.0536,-82.8689 99.3642,-79.4111\" fill=\"none\" stroke=\"#000000\"/>\n</g>\n<!-- node2 -->\n<g class=\"node\" id=\"node5\">\n<title>node2</title>\n<polygon fill=\"none\" points=\"170.4,-79.2 134.4,-79.2 134.4,-43.2 170.4,-43.2 170.4,-79.2\" stroke=\"#000000\"/>\n<text fill=\"#000000\" font-family=\"Times,serif\" font-size=\"14.00\" text-anchor=\"middle\" x=\"152.4\" y=\"-57.5\">40</text>\n</g>\n<!-- node3&#45;&#45;node2 -->\n<g class=\"edge\" id=\"edge5\">\n<title>node3--node2</title>\n<path d=\"M130.1754,-89.7744C132.7646,-86.4455 135.5464,-82.8689 138.2358,-79.4111\" fill=\"none\" stroke=\"#000000\"/>\n</g>\n<!-- node14 -->\n<g class=\"node\" id=\"node6\">\n<title>node14</title>\n<ellipse cx=\"186\" cy=\"-190.8\" fill=\"none\" rx=\"18\" ry=\"18\" stroke=\"#000000\"/>\n<text fill=\"#000000\" font-family=\"Times,serif\" font-size=\"14.00\" text-anchor=\"middle\" x=\"186\" y=\"-187.1\">40</text>\n</g>\n<!-- node14&#45;&#45;node4 -->\n<g class=\"edge\" id=\"edge1\">\n<title>node14--node4</title>\n<path d=\"M168.7047,-185.2408C142.8982,-176.9458 94.5968,-161.4204 68.8289,-153.1379\" fill=\"none\" stroke=\"#000000\"/>\n</g>\n<!-- node13 -->\n<g class=\"node\" id=\"node14\">\n<title>node13</title>\n<ellipse cx=\"454.8\" cy=\"-147.6\" fill=\"none\" rx=\"18\" ry=\"18\" stroke=\"#000000\"/>\n<text fill=\"#000000\" font-family=\"Times,serif\" font-size=\"14.00\" text-anchor=\"middle\" x=\"454.8\" y=\"-143.9\">90</text>\n</g>\n<!-- node14&#45;&#45;node13 -->\n<g class=\"edge\" id=\"edge6\">\n<title>node14--node13</title>\n<path d=\"M204.0541,-187.8984C253.0221,-180.0286 387.9486,-158.344 436.8245,-150.4889\" fill=\"none\" stroke=\"#000000\"/>\n</g>\n<!-- node5 -->\n<g class=\"node\" id=\"node7\">\n<title>node5</title>\n<polygon fill=\"none\" points=\"237.6,-36 201.6,-36 201.6,0 237.6,0 237.6,-36\" stroke=\"#000000\"/>\n<text fill=\"#000000\" font-family=\"Times,serif\" font-size=\"14.00\" text-anchor=\"middle\" x=\"219.6\" y=\"-14.3\">55</text>\n</g>\n<!-- node7 -->\n<g class=\"node\" id=\"node8\">\n<title>node7</title>\n<ellipse cx=\"253.2\" cy=\"-61.2\" fill=\"none\" rx=\"18\" ry=\"18\" stroke=\"#000000\"/>\n<text fill=\"#000000\" font-family=\"Times,serif\" font-size=\"14.00\" text-anchor=\"middle\" x=\"253.2\" y=\"-57.5\">55</text>\n</g>\n<!-- node7&#45;&#45;node5 -->\n<g class=\"edge\" id=\"edge9\">\n<title>node7--node5</title>\n<path d=\"M241.8246,-46.5745C239.2354,-43.2455 236.4536,-39.6689 233.7642,-36.2111\" fill=\"none\" stroke=\"#000000\"/>\n</g>\n<!-- node6 -->\n<g class=\"node\" id=\"node9\">\n<title>node6</title>\n<polygon fill=\"none\" points=\"304.8,-36 268.8,-36 268.8,0 304.8,0 304.8,-36\" stroke=\"#000000\"/>\n<text fill=\"#000000\" font-family=\"Times,serif\" font-size=\"14.00\" text-anchor=\"middle\" x=\"286.8\" y=\"-14.3\">62</text>\n</g>\n<!-- node7&#45;&#45;node6 -->\n<g class=\"edge\" id=\"edge10\">\n<title>node7--node6</title>\n<path d=\"M264.5754,-46.5745C267.1646,-43.2455 269.9464,-39.6689 272.6358,-36.2111\" fill=\"none\" stroke=\"#000000\"/>\n</g>\n<!-- node11 -->\n<g class=\"node\" id=\"node10\">\n<title>node11</title>\n<ellipse cx=\"320.4\" cy=\"-104.4\" fill=\"none\" rx=\"18\" ry=\"18\" stroke=\"#000000\"/>\n<text fill=\"#000000\" font-family=\"Times,serif\" font-size=\"14.00\" text-anchor=\"middle\" x=\"320.4\" y=\"-100.7\">62</text>\n</g>\n<!-- node11&#45;&#45;node7 -->\n<g class=\"edge\" id=\"edge8\">\n<title>node11--node7</title>\n<path d=\"M305.1513,-94.5973C294.1536,-87.5273 279.3722,-78.025 268.3884,-70.964\" fill=\"none\" stroke=\"#000000\"/>\n</g>\n<!-- node10 -->\n<g class=\"node\" id=\"node12\">\n<title>node10</title>\n<ellipse cx=\"387.6\" cy=\"-61.2\" fill=\"none\" rx=\"18\" ry=\"18\" stroke=\"#000000\"/>\n<text fill=\"#000000\" font-family=\"Times,serif\" font-size=\"14.00\" text-anchor=\"middle\" x=\"387.6\" y=\"-57.5\">70</text>\n</g>\n<!-- node11&#45;&#45;node10 -->\n<g class=\"edge\" id=\"edge11\">\n<title>node11--node10</title>\n<path d=\"M335.6487,-94.5973C346.6464,-87.5273 361.4278,-78.025 372.4116,-70.964\" fill=\"none\" stroke=\"#000000\"/>\n</g>\n<!-- node8 -->\n<g class=\"node\" id=\"node11\">\n<title>node8</title>\n<polygon fill=\"none\" points=\"372,-36 336,-36 336,0 372,0 372,-36\" stroke=\"#000000\"/>\n<text fill=\"#000000\" font-family=\"Times,serif\" font-size=\"14.00\" text-anchor=\"middle\" x=\"354\" y=\"-14.3\">70</text>\n</g>\n<!-- node10&#45;&#45;node8 -->\n<g class=\"edge\" id=\"edge12\">\n<title>node10--node8</title>\n<path d=\"M376.2246,-46.5745C373.6354,-43.2455 370.8536,-39.6689 368.1642,-36.2111\" fill=\"none\" stroke=\"#000000\"/>\n</g>\n<!-- node9 -->\n<g class=\"node\" id=\"node13\">\n<title>node9</title>\n<polygon fill=\"none\" points=\"439.2,-36 403.2,-36 403.2,0 439.2,0 439.2,-36\" stroke=\"#000000\"/>\n<text fill=\"#000000\" font-family=\"Times,serif\" font-size=\"14.00\" text-anchor=\"middle\" x=\"421.2\" y=\"-14.3\">90</text>\n</g>\n<!-- node10&#45;&#45;node9 -->\n<g class=\"edge\" id=\"edge13\">\n<title>node10--node9</title>\n<path d=\"M398.9754,-46.5745C401.5646,-43.2455 404.3464,-39.6689 407.0358,-36.2111\" fill=\"none\" stroke=\"#000000\"/>\n</g>\n<!-- node13&#45;&#45;node11 -->\n<g class=\"edge\" id=\"edge7\">\n<title>node13--node11</title>\n<path d=\"M437.5047,-142.0408C411.6982,-133.7458 363.3968,-118.2204 337.6289,-109.9379\" fill=\"none\" stroke=\"#000000\"/>\n</g>\n<!-- node12 -->\n<g class=\"node\" id=\"node15\">\n<title>node12</title>\n<polygon fill=\"none\" points=\"506.4,-122.4 470.4,-122.4 470.4,-86.4 506.4,-86.4 506.4,-122.4\" stroke=\"#000000\"/>\n<text fill=\"#000000\" font-family=\"Times,serif\" font-size=\"14.00\" text-anchor=\"middle\" x=\"488.4\" y=\"-100.7\">+∞</text>\n</g>\n<!-- node13&#45;&#45;node12 -->\n<g class=\"edge\" id=\"edge14\">\n<title>node13--node12</title>\n<path d=\"M466.1754,-132.9745C468.7646,-129.6455 471.5464,-126.0689 474.2358,-122.6111\" fill=\"none\" stroke=\"#000000\"/>\n</g>\n</g>\n</svg>"
          },
          "metadata": {}
        },
        {
          "output_type": "stream",
          "name": "stdout",
          "text": [
            "62 está\n",
            "95 no está\n"
          ]
        }
      ]
    },
    {
      "cell_type": "markdown",
      "source": [
        "## Prueba 2: Agregar una llave que no estaba y buscarla"
      ],
      "metadata": {
        "id": "dCxvvr9EKL9e"
      }
    },
    {
      "cell_type": "code",
      "source": [
        "a.insert(95)\n",
        "a.dibujar()\n",
        "test(a,95)"
      ],
      "metadata": {
        "id": "ck2rZ-8MKS6J",
        "colab": {
          "base_uri": "https://localhost:8080/",
          "height": 328
        },
        "outputId": "def6d055-4a7d-4ee6-9fba-69bfdcb1dce0"
      },
      "execution_count": null,
      "outputs": [
        {
          "output_type": "display_data",
          "data": {
            "text/plain": [
              "<IPython.core.display.SVG object>"
            ],
            "image/svg+xml": "<svg height=\"217pt\" viewBox=\"0.00 0.00 581.60 216.80\" width=\"582pt\" xmlns=\"http://www.w3.org/2000/svg\" xmlns:xlink=\"http://www.w3.org/1999/xlink\">\n<g class=\"graph\" id=\"graph0\" transform=\"scale(1 1) rotate(0) translate(4 212.8)\">\n<title>Arbol</title>\n<polygon fill=\"#ffffff\" points=\"-4,4 -4,-212.8 577.6,-212.8 577.6,4 -4,4\" stroke=\"transparent\"/>\n<!-- node0 -->\n<g class=\"node\" id=\"node1\">\n<title>node0</title>\n<polygon fill=\"none\" points=\"36,-122.4 0,-122.4 0,-86.4 36,-86.4 36,-122.4\" stroke=\"#000000\"/>\n<text fill=\"#000000\" font-family=\"Times,serif\" font-size=\"14.00\" text-anchor=\"middle\" x=\"18\" y=\"-100.7\">25</text>\n</g>\n<!-- node4 -->\n<g class=\"node\" id=\"node2\">\n<title>node4</title>\n<ellipse cx=\"51.6\" cy=\"-147.6\" fill=\"none\" rx=\"18\" ry=\"18\" stroke=\"#000000\"/>\n<text fill=\"#000000\" font-family=\"Times,serif\" font-size=\"14.00\" text-anchor=\"middle\" x=\"51.6\" y=\"-143.9\">25</text>\n</g>\n<!-- node4&#45;&#45;node0 -->\n<g class=\"edge\" id=\"edge2\">\n<title>node4--node0</title>\n<path d=\"M40.2246,-132.9745C37.6354,-129.6455 34.8536,-126.0689 32.1642,-122.6111\" fill=\"none\" stroke=\"#000000\"/>\n</g>\n<!-- node3 -->\n<g class=\"node\" id=\"node4\">\n<title>node3</title>\n<ellipse cx=\"118.8\" cy=\"-104.4\" fill=\"none\" rx=\"18\" ry=\"18\" stroke=\"#000000\"/>\n<text fill=\"#000000\" font-family=\"Times,serif\" font-size=\"14.00\" text-anchor=\"middle\" x=\"118.8\" y=\"-100.7\">32</text>\n</g>\n<!-- node4&#45;&#45;node3 -->\n<g class=\"edge\" id=\"edge3\">\n<title>node4--node3</title>\n<path d=\"M66.8487,-137.7973C77.8464,-130.7273 92.6278,-121.225 103.6116,-114.164\" fill=\"none\" stroke=\"#000000\"/>\n</g>\n<!-- node1 -->\n<g class=\"node\" id=\"node3\">\n<title>node1</title>\n<polygon fill=\"none\" points=\"103.2,-79.2 67.2,-79.2 67.2,-43.2 103.2,-43.2 103.2,-79.2\" stroke=\"#000000\"/>\n<text fill=\"#000000\" font-family=\"Times,serif\" font-size=\"14.00\" text-anchor=\"middle\" x=\"85.2\" y=\"-57.5\">32</text>\n</g>\n<!-- node3&#45;&#45;node1 -->\n<g class=\"edge\" id=\"edge4\">\n<title>node3--node1</title>\n<path d=\"M107.4246,-89.7745C104.8354,-86.4455 102.0536,-82.8689 99.3642,-79.4111\" fill=\"none\" stroke=\"#000000\"/>\n</g>\n<!-- node2 -->\n<g class=\"node\" id=\"node5\">\n<title>node2</title>\n<polygon fill=\"none\" points=\"170.4,-79.2 134.4,-79.2 134.4,-43.2 170.4,-43.2 170.4,-79.2\" stroke=\"#000000\"/>\n<text fill=\"#000000\" font-family=\"Times,serif\" font-size=\"14.00\" text-anchor=\"middle\" x=\"152.4\" y=\"-57.5\">40</text>\n</g>\n<!-- node3&#45;&#45;node2 -->\n<g class=\"edge\" id=\"edge5\">\n<title>node3--node2</title>\n<path d=\"M130.1754,-89.7745C132.7646,-86.4455 135.5464,-82.8689 138.2358,-79.4111\" fill=\"none\" stroke=\"#000000\"/>\n</g>\n<!-- node16 -->\n<g class=\"node\" id=\"node6\">\n<title>node16</title>\n<ellipse cx=\"186\" cy=\"-190.8\" fill=\"none\" rx=\"18\" ry=\"18\" stroke=\"#000000\"/>\n<text fill=\"#000000\" font-family=\"Times,serif\" font-size=\"14.00\" text-anchor=\"middle\" x=\"186\" y=\"-187.1\">40</text>\n</g>\n<!-- node16&#45;&#45;node4 -->\n<g class=\"edge\" id=\"edge1\">\n<title>node16--node4</title>\n<path d=\"M168.7047,-185.2408C142.8982,-176.9458 94.5968,-161.4204 68.8289,-153.1379\" fill=\"none\" stroke=\"#000000\"/>\n</g>\n<!-- node15 -->\n<g class=\"node\" id=\"node14\">\n<title>node15</title>\n<ellipse cx=\"454.8\" cy=\"-147.6\" fill=\"none\" rx=\"18\" ry=\"18\" stroke=\"#000000\"/>\n<text fill=\"#000000\" font-family=\"Times,serif\" font-size=\"14.00\" text-anchor=\"middle\" x=\"454.8\" y=\"-143.9\">90</text>\n</g>\n<!-- node16&#45;&#45;node15 -->\n<g class=\"edge\" id=\"edge6\">\n<title>node16--node15</title>\n<path d=\"M204.0541,-187.8984C253.0221,-180.0286 387.9486,-158.344 436.8245,-150.4889\" fill=\"none\" stroke=\"#000000\"/>\n</g>\n<!-- node5 -->\n<g class=\"node\" id=\"node7\">\n<title>node5</title>\n<polygon fill=\"none\" points=\"237.6,-36 201.6,-36 201.6,0 237.6,0 237.6,-36\" stroke=\"#000000\"/>\n<text fill=\"#000000\" font-family=\"Times,serif\" font-size=\"14.00\" text-anchor=\"middle\" x=\"219.6\" y=\"-14.3\">55</text>\n</g>\n<!-- node7 -->\n<g class=\"node\" id=\"node8\">\n<title>node7</title>\n<ellipse cx=\"253.2\" cy=\"-61.2\" fill=\"none\" rx=\"18\" ry=\"18\" stroke=\"#000000\"/>\n<text fill=\"#000000\" font-family=\"Times,serif\" font-size=\"14.00\" text-anchor=\"middle\" x=\"253.2\" y=\"-57.5\">55</text>\n</g>\n<!-- node7&#45;&#45;node5 -->\n<g class=\"edge\" id=\"edge9\">\n<title>node7--node5</title>\n<path d=\"M241.8246,-46.5745C239.2354,-43.2455 236.4536,-39.6689 233.7642,-36.2111\" fill=\"none\" stroke=\"#000000\"/>\n</g>\n<!-- node6 -->\n<g class=\"node\" id=\"node9\">\n<title>node6</title>\n<polygon fill=\"none\" points=\"304.8,-36 268.8,-36 268.8,0 304.8,0 304.8,-36\" stroke=\"#000000\"/>\n<text fill=\"#000000\" font-family=\"Times,serif\" font-size=\"14.00\" text-anchor=\"middle\" x=\"286.8\" y=\"-14.3\">62</text>\n</g>\n<!-- node7&#45;&#45;node6 -->\n<g class=\"edge\" id=\"edge10\">\n<title>node7--node6</title>\n<path d=\"M264.5754,-46.5745C267.1646,-43.2455 269.9464,-39.6689 272.6358,-36.2111\" fill=\"none\" stroke=\"#000000\"/>\n</g>\n<!-- node11 -->\n<g class=\"node\" id=\"node10\">\n<title>node11</title>\n<ellipse cx=\"320.4\" cy=\"-104.4\" fill=\"none\" rx=\"18\" ry=\"18\" stroke=\"#000000\"/>\n<text fill=\"#000000\" font-family=\"Times,serif\" font-size=\"14.00\" text-anchor=\"middle\" x=\"320.4\" y=\"-100.7\">62</text>\n</g>\n<!-- node11&#45;&#45;node7 -->\n<g class=\"edge\" id=\"edge8\">\n<title>node11--node7</title>\n<path d=\"M305.1513,-94.5973C294.1536,-87.5273 279.3722,-78.025 268.3884,-70.964\" fill=\"none\" stroke=\"#000000\"/>\n</g>\n<!-- node10 -->\n<g class=\"node\" id=\"node12\">\n<title>node10</title>\n<ellipse cx=\"387.6\" cy=\"-61.2\" fill=\"none\" rx=\"18\" ry=\"18\" stroke=\"#000000\"/>\n<text fill=\"#000000\" font-family=\"Times,serif\" font-size=\"14.00\" text-anchor=\"middle\" x=\"387.6\" y=\"-57.5\">70</text>\n</g>\n<!-- node11&#45;&#45;node10 -->\n<g class=\"edge\" id=\"edge11\">\n<title>node11--node10</title>\n<path d=\"M335.6487,-94.5973C346.6464,-87.5273 361.4278,-78.025 372.4116,-70.964\" fill=\"none\" stroke=\"#000000\"/>\n</g>\n<!-- node8 -->\n<g class=\"node\" id=\"node11\">\n<title>node8</title>\n<polygon fill=\"none\" points=\"372,-36 336,-36 336,0 372,0 372,-36\" stroke=\"#000000\"/>\n<text fill=\"#000000\" font-family=\"Times,serif\" font-size=\"14.00\" text-anchor=\"middle\" x=\"354\" y=\"-14.3\">70</text>\n</g>\n<!-- node10&#45;&#45;node8 -->\n<g class=\"edge\" id=\"edge12\">\n<title>node10--node8</title>\n<path d=\"M376.2246,-46.5745C373.6354,-43.2455 370.8536,-39.6689 368.1642,-36.2111\" fill=\"none\" stroke=\"#000000\"/>\n</g>\n<!-- node9 -->\n<g class=\"node\" id=\"node13\">\n<title>node9</title>\n<polygon fill=\"none\" points=\"439.2,-36 403.2,-36 403.2,0 439.2,0 439.2,-36\" stroke=\"#000000\"/>\n<text fill=\"#000000\" font-family=\"Times,serif\" font-size=\"14.00\" text-anchor=\"middle\" x=\"421.2\" y=\"-14.3\">90</text>\n</g>\n<!-- node10&#45;&#45;node9 -->\n<g class=\"edge\" id=\"edge13\">\n<title>node10--node9</title>\n<path d=\"M398.9754,-46.5745C401.5646,-43.2455 404.3464,-39.6689 407.0358,-36.2111\" fill=\"none\" stroke=\"#000000\"/>\n</g>\n<!-- node15&#45;&#45;node11 -->\n<g class=\"edge\" id=\"edge7\">\n<title>node15--node11</title>\n<path d=\"M437.5047,-142.0408C411.6982,-133.7458 363.3968,-118.2204 337.6289,-109.9379\" fill=\"none\" stroke=\"#000000\"/>\n</g>\n<!-- node14 -->\n<g class=\"node\" id=\"node16\">\n<title>node14</title>\n<ellipse cx=\"522\" cy=\"-104.4\" fill=\"none\" rx=\"18\" ry=\"18\" stroke=\"#000000\"/>\n<text fill=\"#000000\" font-family=\"Times,serif\" font-size=\"14.00\" text-anchor=\"middle\" x=\"522\" y=\"-100.7\">95</text>\n</g>\n<!-- node15&#45;&#45;node14 -->\n<g class=\"edge\" id=\"edge14\">\n<title>node15--node14</title>\n<path d=\"M470.0487,-137.7973C481.0464,-130.7273 495.8278,-121.225 506.8116,-114.164\" fill=\"none\" stroke=\"#000000\"/>\n</g>\n<!-- node12 -->\n<g class=\"node\" id=\"node15\">\n<title>node12</title>\n<polygon fill=\"none\" points=\"506.4,-79.2 470.4,-79.2 470.4,-43.2 506.4,-43.2 506.4,-79.2\" stroke=\"#000000\"/>\n<text fill=\"#000000\" font-family=\"Times,serif\" font-size=\"14.00\" text-anchor=\"middle\" x=\"488.4\" y=\"-57.5\">95</text>\n</g>\n<!-- node14&#45;&#45;node12 -->\n<g class=\"edge\" id=\"edge15\">\n<title>node14--node12</title>\n<path d=\"M510.6246,-89.7745C508.0354,-86.4455 505.2536,-82.8689 502.5642,-79.4111\" fill=\"none\" stroke=\"#000000\"/>\n</g>\n<!-- node13 -->\n<g class=\"node\" id=\"node17\">\n<title>node13</title>\n<polygon fill=\"none\" points=\"573.6,-79.2 537.6,-79.2 537.6,-43.2 573.6,-43.2 573.6,-79.2\" stroke=\"#000000\"/>\n<text fill=\"#000000\" font-family=\"Times,serif\" font-size=\"14.00\" text-anchor=\"middle\" x=\"555.6\" y=\"-57.5\">+∞</text>\n</g>\n<!-- node14&#45;&#45;node13 -->\n<g class=\"edge\" id=\"edge16\">\n<title>node14--node13</title>\n<path d=\"M533.3754,-89.7745C535.9646,-86.4455 538.7464,-82.8689 541.4358,-79.4111\" fill=\"none\" stroke=\"#000000\"/>\n</g>\n</g>\n</svg>"
          },
          "metadata": {}
        },
        {
          "output_type": "stream",
          "name": "stdout",
          "text": [
            "95 está\n"
          ]
        }
      ]
    },
    {
      "cell_type": "markdown",
      "source": [
        "## ¿Qué hay que entregar?\n",
        "\n",
        "Usted debe crear una copia de este documento (del menú seleccionar \"Archivo\" o \"File\" y de ahi la opción \"guardar copia en Drive\" o \"save a copy in Drive\"). Este nuevo documento (notebook de Colab) es el que debe modificar para luego compartirlo con la opción \"Cualquier usuario de internet con este enlace puede ver esto\" (o “Anyone on the internet with this link can view”). Esta opción se encuentra disponible en la parte superior derecha de su notebook, en el botón \"Compartir\" (o \"Share\"). Una vez que tenga disponible el enlace, colocarlo en la descripción de la entrega de su tarea. No olvide colocar su nombre dentro del notebook."
      ],
      "metadata": {
        "id": "kTFnyLnlwc-E"
      }
    }
  ]
}