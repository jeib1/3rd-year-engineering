{
  "nbformat": 4,
  "nbformat_minor": 0,
  "metadata": {
    "colab": {
      "provenance": [],
      "collapsed_sections": []
    },
    "kernelspec": {
      "name": "python3",
      "display_name": "Python 3"
    },
    "language_info": {
      "name": "python"
    }
  },
  "cells": [
    {
      "cell_type": "markdown",
      "source": [
        "# CC3001 Otoño 2022 Tarea 1 [Juan-Bastian Espinoza C.]\n",
        "\n",
        "## Wordle\n",
        "\n",
        "### Profesores\n",
        "Sección 1 Iván Sipirán •\n",
        "Sección 2 Patricio Poblete •\n",
        "Sección 3 Nelson Baloian\n",
        "\n",
        "El juego WORDLE consiste en adivinar una palabra oculta de cinco caracteres en seis intentos. Cada vez que uno propone una palabra, el juego evalúa si la palabra es la correcta. Si no es correcta, entonces el juego nos entrega información que nos permite adivinar mejor la palabra oculta. Esta información viene de tres formas:\n",
        "\n",
        "\n",
        "*   Cuando una letra de la palabra propuesta se encuentra en la posición correcta, la letra se marca en color verde.\n",
        "*   Cuando una letra de la palabra propuesta sí se encuentra en la palabra oculta, pero no está en la posición correcta, la letra se marca en color amarillo.\n",
        "*   Cuando una letra de la palabra propuesta no se encuentra en la palabra oculta, la letra se marca en color gris.\n",
        "\n",
        "\n",
        "La imagen a continuación muestra los tres posibles estados para las letras de una potencial palabra propuesta.\n",
        "\n",
        "![](https://ivan-sipiran.com/downloads/wordle.png)\n",
        "\n",
        "\n"
      ],
      "metadata": {
        "id": "deCM246B_yVT"
      }
    },
    {
      "cell_type": "markdown",
      "source": [
        "# Enunciado\n",
        "\n",
        "En esta tarea implementamos una simulación del juego de WORDLE. Para realizar esta simulación, nosotros te hacemos entrega de un código base al cual hay que agregarle dos funciones necesarias para que el juego funcione.\n",
        "\n",
        "Lo primero que haremos es cargar un conjunto de palabras de cinco caracteres:"
      ],
      "metadata": {
        "id": "ZYDt_cQeNzca"
      }
    },
    {
      "cell_type": "code",
      "execution_count": null,
      "metadata": {
        "id": "-juF0lDH_vm9",
        "colab": {
          "base_uri": "https://localhost:8080/"
        },
        "outputId": "f2a57732-c029-47fe-906e-68eb31c41fa0"
      },
      "outputs": [
        {
          "output_type": "stream",
          "name": "stdout",
          "text": [
            "/resources/data/palabrast4.txt: Scheme missing.\n",
            "--2022-03-23 01:23:31--  http://dcc.uchile.cl/nbaloian/cc3001/palabrast4.txt\n",
            "Resolving dcc.uchile.cl (dcc.uchile.cl)... 192.80.24.11\n",
            "Connecting to dcc.uchile.cl (dcc.uchile.cl)|192.80.24.11|:80... connected.\n",
            "HTTP request sent, awaiting response... 301 Moved Permanently\n",
            "Location: https://www.dcc.uchile.cl/nbaloian/cc3001/palabrast4.txt [following]\n",
            "--2022-03-23 01:23:31--  https://www.dcc.uchile.cl/nbaloian/cc3001/palabrast4.txt\n",
            "Resolving www.dcc.uchile.cl (www.dcc.uchile.cl)... 192.80.24.11, 200.9.99.213\n",
            "Connecting to www.dcc.uchile.cl (www.dcc.uchile.cl)|192.80.24.11|:443... connected.\n",
            "HTTP request sent, awaiting response... 302 Found\n",
            "Location: https://users.dcc.uchile.cl/~nbaloian/cc3001/palabrast4.txt [following]\n",
            "--2022-03-23 01:23:32--  https://users.dcc.uchile.cl/~nbaloian/cc3001/palabrast4.txt\n",
            "Resolving users.dcc.uchile.cl (users.dcc.uchile.cl)... 192.80.24.4, 200.9.99.211\n",
            "Connecting to users.dcc.uchile.cl (users.dcc.uchile.cl)|192.80.24.4|:443... connected.\n",
            "HTTP request sent, awaiting response... 200 OK\n",
            "Length: 2215 (2.2K) [text/plain]\n",
            "Saving to: ‘palabrast4.txt’\n",
            "\n",
            "palabrast4.txt      100%[===================>]   2.16K  --.-KB/s    in 0s      \n",
            "\n",
            "2022-03-23 01:23:32 (388 MB/s) - ‘palabrast4.txt’ saved [2215/2215]\n",
            "\n",
            "FINISHED --2022-03-23 01:23:32--\n",
            "Total wall clock time: 1.6s\n",
            "Downloaded: 1 files, 2.2K in 0s (388 MB/s)\n"
          ]
        }
      ],
      "source": [
        "!wget /resources/data/palabrast4.txt http://dcc.uchile.cl/nbaloian/cc3001/palabrast4.txt\n",
        "\n",
        "def leerPals(archivo):\n",
        "  f=open(archivo,\"r\")\n",
        "  texto=f.read()\n",
        "  palabras=texto.split()\n",
        "\n",
        "  return palabras"
      ]
    },
    {
      "cell_type": "markdown",
      "source": [
        "La siguiente función hace la clasificación de los caracteres de una palabra propuesta de acuerdo a las reglas presentadas anteriormente. Para representar los colores usamos caracteres:\n",
        "\n",
        "* *v* si el caracter está en la posición correcta (color verde)\n",
        "* *a* si el caracter está en el string pero en la posición incorrecta (color amarillo)\n",
        "* *g* si el caracter no está en el string oculto (color gris)\n",
        "\n"
      ],
      "metadata": {
        "id": "xHymnDHfPX8n"
      }
    },
    {
      "cell_type": "code",
      "source": [
        "def clasifica(guess,enigma): #arma un string con v's, a's y g's \n",
        "    res = \"\"\n",
        "    for i in range(5):\n",
        "        if guess[i] == enigma[i]:\n",
        "            res += \"v\"\n",
        "        elif guess[i] in enigma:\n",
        "            res += \"a\"\n",
        "        else:\n",
        "            res += \"g\"\n",
        "    return res"
      ],
      "metadata": {
        "id": "A3Z_2jMIPmPk"
      },
      "execution_count": null,
      "outputs": []
    },
    {
      "cell_type": "markdown",
      "source": [
        "Como parte de la tarea, debes implementar una función que reciba una lista de palabras, la palabra propuesta en el juego y la clasificación de los cinco caracteres de la palabra propuesta. La función debe devolver una lista con las palabras que cumplen con las reglas de la clasificación.\n",
        "\n",
        "Veamos un ejemplo. Supongamos que tenemos la lista de palabras ['andes','botas','enojo','falta'] y la palabra propuesta fue 'talon'. Además, para la palabra 'talon', la clasificación de los caracteres fue 'avvgg'. Esta clasificación significa que:\n",
        " \n",
        "\n",
        "*   La letra 't' está en la palabra oculta, pero no en la primera posición\n",
        "*   La letra 'a' está en la palabra oculta y en la segunda posición\n",
        "*   La letra 'l' está en la palabra oculta y en la tercera posición\n",
        "*   La letra 'o' no está en la palabra oculta\n",
        "*   La letra 'n' no está en la palabra oculta\n",
        "\n",
        "La función **filtra** debería retornar la lista ['falta']. Esto es debido a que:\n",
        "\n",
        "*   La palabra 'andes' no contiene la letra 't', y no tiene 'a' y 'l' en la segunda y tercera posición, respectivamente. Además la letra 'n' no es parte de la solución.\n",
        "*   La palabra 'botas' no tiene la letra 'a' y 'l' en la segunda y tercera posición, respectivamente.\n",
        "*   La palabra 'enojo' no contiene la letra 't', y no tiene la letra 'a' y 'l' en la segunda y tercera posición, respectivamente. Además la letra 'n' no es parte de la solución.\n",
        "\n",
        "La palabra 'falta' si cumple con todas las restricciones de la clasificación: Contiene la letra 't', contiene las letras 'a' y 'l' en las posiciones correctas, y no contiene las letras 'o' y 'n'."
      ],
      "metadata": {
        "id": "EAgQbe2WQx6i"
      }
    },
    {
      "cell_type": "code",
      "source": [
        "def filtra(lista, guess, tf):\n",
        "  #lista: es la lista de palabras\n",
        "  #guess: es la palabra propuesta\n",
        "  #tf: es la clasificación de los cinco caracteres de la palabra propuesta\n",
        "    cumplen=[] #lista con las palabras que cumplen con las restricciones\n",
        "    for n in range(0,len(lista)):  #iteracion en toda la lista\n",
        "        lista0=[''] #lista en la cual se agregaran las letras que cumplen con las respectiva clasificacion\n",
        "        for k in range(0,5): # iteracion letra por letra\n",
        "            if tf[k]==\"v\": \n",
        "                if lista[n][k]==guess[k]:\n",
        "                    lista0[0]+=lista[n][k] #si la letra cumple, se agrega\n",
        "                    pass\n",
        "            if tf[k]==\"a\":\n",
        "                if guess[k] in lista[n]:\n",
        "                    lista0[0]+=lista[n][k] #si la letra cumple, se agrega\n",
        "                    pass\n",
        "            if tf[k]==\"g\":\n",
        "                if guess[k] not in lista[n]:\n",
        "                    lista0[0]+=lista[n][k] #si la letra cumple, se agrega\n",
        "                    pass\n",
        "        if lista0[0]==lista[n]: #si se agregaron todas las letras de la palabra quiere decir que la palabra entera cumple\n",
        "            cumplen+=[lista0[0]] #se agrega la palabra a la lista filtrada\n",
        "    return cumplen"
      ],
      "metadata": {
        "id": "8NQW_HzCSA0g"
      },
      "execution_count": null,
      "outputs": []
    },
    {
      "cell_type": "markdown",
      "source": [
        "Todas las funciones son usadas en la siguiente simulación del juego. Debes implementar el loop del juego. Este código debe reportar la palabra oculta, y durante el juego, por cada palabra propuesta se debe reportar: la palabra propuesta, la clasificación de la palabra propuesta y la lista de palabras filtradas para esa palabra propuesta."
      ],
      "metadata": {
        "id": "hkxXRkguSQAx"
      }
    },
    {
      "cell_type": "code",
      "source": [
        "from random import randint\n",
        "\n",
        "#Se prueba por 10 veces\n",
        "for n in range (10): \n",
        "  a = leerPals(\"palabrast4.txt\") #Leemos el conjunto de palabras\n",
        "  print('JUEGO',n+1)\n",
        "  print(a)\n",
        "  i = randint(0,len(a)-1) #Se escoge una palabra como la palabra oculta\n",
        "\n",
        "  enigma = a[i]\n",
        "\n",
        "  while True: #Se ejecuta un loop que solo termina cuando se encuentra la palabra\n",
        "    #Se selecciona aleatoriamente una palabra\n",
        "    j = randint(0,len(a)-1)\n",
        "    guess = a[j]\n",
        "    if guess==enigma: # termino de la iteracion al encontrar la palabra enigma\n",
        "      print('Propuesta:',guess,'/','Clasificacion:',clasifica(guess,enigma),'/','Pal. filtradas:',filtra(a,guess,clasifica(guess,enigma)))\n",
        "      print('PALABRA ENCONTRADA:', enigma)\n",
        "      break\n",
        "    else: \n",
        "      a=filtra(a,guess,clasifica(guess,enigma)) #se filtra la lista de palabras\n",
        "      print('Propuesta:',guess,'/','Clasificacion:',clasifica(guess,enigma),'/','Pal. filtradas:',a)\n",
        "    \n",
        "    #Implementar el resto del loop\n",
        "    #Si la palabra propuesta (guess) es igual a la oculta, terminar y reportar la palabra\n",
        "    #En caso contrario, computar los caracteres de clasificación y filtrar la lista de palabras. \n",
        "    #  para repetir con la lista filtrada.\n",
        "    \n"
      ],
      "metadata": {
        "id": "oUHX-AXIST5o",
        "colab": {
          "base_uri": "https://localhost:8080/"
        },
        "outputId": "aa3d8b36-dd87-40b3-9262-ac661fa739a1"
      },
      "execution_count": null,
      "outputs": [
        {
          "output_type": "stream",
          "name": "stdout",
          "text": [
            "JUEGO 1\n",
            "['abaco', 'abajo', 'abate', 'abeja', 'abeto', 'abuso', 'abril', 'afilo', 'afino', 'aguja', 'ahora', 'asila', 'alaba', 'alega', 'amago', 'amiga', 'animo', 'anulo', 'anodo', 'anido', 'ansar', 'añejo', 'asilo', 'asume', 'atora', 'aviso', 'avisa', 'avena', 'ayuda', 'azote', 'baden', 'bagre', 'basta', 'balde', 'banda', 'balsa', 'banco', 'barco', 'basta', 'besas', 'besos', 'boina', 'bogar', 'bolsa', 'bolso', 'bozal', 'brazo', 'briza', 'brote', 'bueno', 'caber', 'cabes', 'calor', 'campo', 'canal', 'canto', 'canta', 'canto', 'cañon', 'cardo', 'carta', 'carne', 'cavar', 'caves', 'cesta', 'cinta', 'circo', 'cisne', 'claro', 'clara', 'cobre', 'conos', 'corta', 'corto', 'corte', 'cosas', 'crear', 'crece', 'curva', 'dabas', 'dagas', 'damas', 'dando', 'datil', 'deban', 'dejas', 'demas', 'diana', 'dicho', 'dicha', 'dicta', 'dicte', 'diera', 'dieta', 'digna', 'doble', 'doblo', 'docil', 'docta', 'donde', 'drena', 'dreno', 'ducha', 'duelo', 'dudas', 'dunas', 'ebano', 'edema', 'enano', 'enana', 'entro', 'estio', 'exodo', 'fardo', 'finta', 'final', 'firme', 'fondo', 'fruta', 'fusil', 'gesto', 'gesta', 'grano', 'grito', 'grupo', 'guapo', 'gusto', 'harto', 'hacer', 'hedor', 'hondo', 'huevo', 'hurto', 'icono', 'indio', 'imita', 'islas', 'jamas', 'jamon', 'juego', 'julio', 'junto', 'junio', 'justo', 'lacra', 'laico', 'lagar', 'lamer', 'lanza', 'largo', 'larga', 'laton', 'lento', 'leona', 'lenga', 'leñas', 'limar', 'listo', 'litio', 'lugar', 'libro', 'limar', 'limon', 'lugar', 'manco', 'mando', 'manto', 'madre', 'marzo', 'medio', 'mente', 'metal', 'metas', 'meter', 'miedo', 'mirar', 'mirlo', 'misal', 'morbo', 'morsa', 'morar', 'mucho', 'mugre', 'mundo', 'nadar', 'nicho', 'nogal', 'noche', 'norte', 'nunca', 'oasis', 'obvio', 'oeste', 'olivo', 'oliva', 'omite', 'ondea', 'orden', 'orate', 'oruga', 'padre', 'palco', 'parte', 'parta', 'pasta', 'pasto', 'palta', 'perro', 'pesas', 'polca', 'ponga', 'presa', 'prisa', 'prosa', 'pulso', 'punta', 'puñal', 'pudor', 'queja', 'quema', 'quena', 'quera', 'queso', 'rabia', 'radio', 'rasca', 'razón', 'ramal', 'rabos', 'raton', 'reino', 'resma', 'resta', 'ritmo', 'roble', 'rosca', 'rocas', 'rugir', 'sacas', 'sacos', 'saldo', 'sales', 'salgo', 'salud', 'salon', 'salva', 'sanas', 'santo', 'salto', 'sesgo', 'sigue', 'socio', 'sopas', 'sordo', 'sucio', 'sueco', 'suero', 'suelo', 'sufre', 'susto', 'tacos', 'tanto', 'tarro', 'tenue', 'terco', 'terso', 'texto', 'tifon', 'timar', 'tipos', 'total', 'tosco', 'traba', 'trago', 'traje', 'trato', 'trepa', 'trino', 'trote', 'turba', 'turno', 'ubica', 'ubico', 'ufano', 'unete', 'ungir', 'unico', 'union', 'untar', 'urdir', 'urden', 'urgir', 'usare', 'usado', 'usara', 'vaina', 'vagar', 'valle', 'villa', 'vasto', 'vacio', 'vasos', 'venas', 'venda', 'venta', 'verde', 'vicio', 'video', 'vista', 'viudo', 'vivir', 'votas', 'zafar', 'zanco', 'zebra', 'zurdo']\n",
            "Propuesta: dunas / Clasificacion: gagag / Pal. filtradas: ['aguja', 'curva', 'fruta', 'guapo', 'lugar', 'lugar', 'oruga', 'puñal', 'queja', 'quema', 'quera', 'turba', 'ubica']\n",
            "Propuesta: fruta / Clasificacion: gvvgv / Pal. filtradas: ['oruga']\n",
            "Propuesta: oruga / Clasificacion: vvvvv / Pal. filtradas: ['oruga']\n",
            "PALABRA ENCONTRADA: oruga\n",
            "JUEGO 2\n",
            "['abaco', 'abajo', 'abate', 'abeja', 'abeto', 'abuso', 'abril', 'afilo', 'afino', 'aguja', 'ahora', 'asila', 'alaba', 'alega', 'amago', 'amiga', 'animo', 'anulo', 'anodo', 'anido', 'ansar', 'añejo', 'asilo', 'asume', 'atora', 'aviso', 'avisa', 'avena', 'ayuda', 'azote', 'baden', 'bagre', 'basta', 'balde', 'banda', 'balsa', 'banco', 'barco', 'basta', 'besas', 'besos', 'boina', 'bogar', 'bolsa', 'bolso', 'bozal', 'brazo', 'briza', 'brote', 'bueno', 'caber', 'cabes', 'calor', 'campo', 'canal', 'canto', 'canta', 'canto', 'cañon', 'cardo', 'carta', 'carne', 'cavar', 'caves', 'cesta', 'cinta', 'circo', 'cisne', 'claro', 'clara', 'cobre', 'conos', 'corta', 'corto', 'corte', 'cosas', 'crear', 'crece', 'curva', 'dabas', 'dagas', 'damas', 'dando', 'datil', 'deban', 'dejas', 'demas', 'diana', 'dicho', 'dicha', 'dicta', 'dicte', 'diera', 'dieta', 'digna', 'doble', 'doblo', 'docil', 'docta', 'donde', 'drena', 'dreno', 'ducha', 'duelo', 'dudas', 'dunas', 'ebano', 'edema', 'enano', 'enana', 'entro', 'estio', 'exodo', 'fardo', 'finta', 'final', 'firme', 'fondo', 'fruta', 'fusil', 'gesto', 'gesta', 'grano', 'grito', 'grupo', 'guapo', 'gusto', 'harto', 'hacer', 'hedor', 'hondo', 'huevo', 'hurto', 'icono', 'indio', 'imita', 'islas', 'jamas', 'jamon', 'juego', 'julio', 'junto', 'junio', 'justo', 'lacra', 'laico', 'lagar', 'lamer', 'lanza', 'largo', 'larga', 'laton', 'lento', 'leona', 'lenga', 'leñas', 'limar', 'listo', 'litio', 'lugar', 'libro', 'limar', 'limon', 'lugar', 'manco', 'mando', 'manto', 'madre', 'marzo', 'medio', 'mente', 'metal', 'metas', 'meter', 'miedo', 'mirar', 'mirlo', 'misal', 'morbo', 'morsa', 'morar', 'mucho', 'mugre', 'mundo', 'nadar', 'nicho', 'nogal', 'noche', 'norte', 'nunca', 'oasis', 'obvio', 'oeste', 'olivo', 'oliva', 'omite', 'ondea', 'orden', 'orate', 'oruga', 'padre', 'palco', 'parte', 'parta', 'pasta', 'pasto', 'palta', 'perro', 'pesas', 'polca', 'ponga', 'presa', 'prisa', 'prosa', 'pulso', 'punta', 'puñal', 'pudor', 'queja', 'quema', 'quena', 'quera', 'queso', 'rabia', 'radio', 'rasca', 'razón', 'ramal', 'rabos', 'raton', 'reino', 'resma', 'resta', 'ritmo', 'roble', 'rosca', 'rocas', 'rugir', 'sacas', 'sacos', 'saldo', 'sales', 'salgo', 'salud', 'salon', 'salva', 'sanas', 'santo', 'salto', 'sesgo', 'sigue', 'socio', 'sopas', 'sordo', 'sucio', 'sueco', 'suero', 'suelo', 'sufre', 'susto', 'tacos', 'tanto', 'tarro', 'tenue', 'terco', 'terso', 'texto', 'tifon', 'timar', 'tipos', 'total', 'tosco', 'traba', 'trago', 'traje', 'trato', 'trepa', 'trino', 'trote', 'turba', 'turno', 'ubica', 'ubico', 'ufano', 'unete', 'ungir', 'unico', 'union', 'untar', 'urdir', 'urden', 'urgir', 'usare', 'usado', 'usara', 'vaina', 'vagar', 'valle', 'villa', 'vasto', 'vacio', 'vasos', 'venas', 'venda', 'venta', 'verde', 'vicio', 'video', 'vista', 'viudo', 'vivir', 'votas', 'zafar', 'zanco', 'zebra', 'zurdo']\n",
            "Propuesta: gesto / Clasificacion: ggagg / Pal. filtradas: ['asila', 'ansar', 'avisa', 'balsa', 'dabas', 'damas', 'dudas', 'dunas', 'fusil', 'islas', 'jamas', 'misal', 'prisa', 'rasca', 'sacas', 'salud', 'salva', 'sanas', 'usara']\n",
            "Propuesta: avisa / Clasificacion: aggaa / Pal. filtradas: ['ansar', 'balsa', 'dabas', 'damas', 'dudas', 'dunas', 'jamas', 'rasca', 'sacas', 'salud', 'sanas', 'usara']\n",
            "Propuesta: sacas / Clasificacion: aagvv / Pal. filtradas: ['dabas', 'damas', 'dudas', 'dunas', 'jamas', 'sanas']\n",
            "Propuesta: damas / Clasificacion: vagvv / Pal. filtradas: ['dabas', 'dudas', 'dunas']\n",
            "Propuesta: dabas / Clasificacion: vagvv / Pal. filtradas: ['dudas', 'dunas']\n",
            "Propuesta: dunas / Clasificacion: vvgvv / Pal. filtradas: ['dudas']\n",
            "Propuesta: dudas / Clasificacion: vvvvv / Pal. filtradas: ['dudas']\n",
            "PALABRA ENCONTRADA: dudas\n",
            "JUEGO 3\n",
            "['abaco', 'abajo', 'abate', 'abeja', 'abeto', 'abuso', 'abril', 'afilo', 'afino', 'aguja', 'ahora', 'asila', 'alaba', 'alega', 'amago', 'amiga', 'animo', 'anulo', 'anodo', 'anido', 'ansar', 'añejo', 'asilo', 'asume', 'atora', 'aviso', 'avisa', 'avena', 'ayuda', 'azote', 'baden', 'bagre', 'basta', 'balde', 'banda', 'balsa', 'banco', 'barco', 'basta', 'besas', 'besos', 'boina', 'bogar', 'bolsa', 'bolso', 'bozal', 'brazo', 'briza', 'brote', 'bueno', 'caber', 'cabes', 'calor', 'campo', 'canal', 'canto', 'canta', 'canto', 'cañon', 'cardo', 'carta', 'carne', 'cavar', 'caves', 'cesta', 'cinta', 'circo', 'cisne', 'claro', 'clara', 'cobre', 'conos', 'corta', 'corto', 'corte', 'cosas', 'crear', 'crece', 'curva', 'dabas', 'dagas', 'damas', 'dando', 'datil', 'deban', 'dejas', 'demas', 'diana', 'dicho', 'dicha', 'dicta', 'dicte', 'diera', 'dieta', 'digna', 'doble', 'doblo', 'docil', 'docta', 'donde', 'drena', 'dreno', 'ducha', 'duelo', 'dudas', 'dunas', 'ebano', 'edema', 'enano', 'enana', 'entro', 'estio', 'exodo', 'fardo', 'finta', 'final', 'firme', 'fondo', 'fruta', 'fusil', 'gesto', 'gesta', 'grano', 'grito', 'grupo', 'guapo', 'gusto', 'harto', 'hacer', 'hedor', 'hondo', 'huevo', 'hurto', 'icono', 'indio', 'imita', 'islas', 'jamas', 'jamon', 'juego', 'julio', 'junto', 'junio', 'justo', 'lacra', 'laico', 'lagar', 'lamer', 'lanza', 'largo', 'larga', 'laton', 'lento', 'leona', 'lenga', 'leñas', 'limar', 'listo', 'litio', 'lugar', 'libro', 'limar', 'limon', 'lugar', 'manco', 'mando', 'manto', 'madre', 'marzo', 'medio', 'mente', 'metal', 'metas', 'meter', 'miedo', 'mirar', 'mirlo', 'misal', 'morbo', 'morsa', 'morar', 'mucho', 'mugre', 'mundo', 'nadar', 'nicho', 'nogal', 'noche', 'norte', 'nunca', 'oasis', 'obvio', 'oeste', 'olivo', 'oliva', 'omite', 'ondea', 'orden', 'orate', 'oruga', 'padre', 'palco', 'parte', 'parta', 'pasta', 'pasto', 'palta', 'perro', 'pesas', 'polca', 'ponga', 'presa', 'prisa', 'prosa', 'pulso', 'punta', 'puñal', 'pudor', 'queja', 'quema', 'quena', 'quera', 'queso', 'rabia', 'radio', 'rasca', 'razón', 'ramal', 'rabos', 'raton', 'reino', 'resma', 'resta', 'ritmo', 'roble', 'rosca', 'rocas', 'rugir', 'sacas', 'sacos', 'saldo', 'sales', 'salgo', 'salud', 'salon', 'salva', 'sanas', 'santo', 'salto', 'sesgo', 'sigue', 'socio', 'sopas', 'sordo', 'sucio', 'sueco', 'suero', 'suelo', 'sufre', 'susto', 'tacos', 'tanto', 'tarro', 'tenue', 'terco', 'terso', 'texto', 'tifon', 'timar', 'tipos', 'total', 'tosco', 'traba', 'trago', 'traje', 'trato', 'trepa', 'trino', 'trote', 'turba', 'turno', 'ubica', 'ubico', 'ufano', 'unete', 'ungir', 'unico', 'union', 'untar', 'urdir', 'urden', 'urgir', 'usare', 'usado', 'usara', 'vaina', 'vagar', 'valle', 'villa', 'vasto', 'vacio', 'vasos', 'venas', 'venda', 'venta', 'verde', 'vicio', 'video', 'vista', 'viudo', 'vivir', 'votas', 'zafar', 'zanco', 'zebra', 'zurdo']\n",
            "Propuesta: bagre / Clasificacion: gagva / Pal. filtradas: ['diera', 'madre', 'padre', 'quera', 'usare']\n",
            "Propuesta: quera / Clasificacion: ggvvv / Pal. filtradas: ['diera']\n",
            "Propuesta: diera / Clasificacion: vvvvv / Pal. filtradas: ['diera']\n",
            "PALABRA ENCONTRADA: diera\n",
            "JUEGO 4\n",
            "['abaco', 'abajo', 'abate', 'abeja', 'abeto', 'abuso', 'abril', 'afilo', 'afino', 'aguja', 'ahora', 'asila', 'alaba', 'alega', 'amago', 'amiga', 'animo', 'anulo', 'anodo', 'anido', 'ansar', 'añejo', 'asilo', 'asume', 'atora', 'aviso', 'avisa', 'avena', 'ayuda', 'azote', 'baden', 'bagre', 'basta', 'balde', 'banda', 'balsa', 'banco', 'barco', 'basta', 'besas', 'besos', 'boina', 'bogar', 'bolsa', 'bolso', 'bozal', 'brazo', 'briza', 'brote', 'bueno', 'caber', 'cabes', 'calor', 'campo', 'canal', 'canto', 'canta', 'canto', 'cañon', 'cardo', 'carta', 'carne', 'cavar', 'caves', 'cesta', 'cinta', 'circo', 'cisne', 'claro', 'clara', 'cobre', 'conos', 'corta', 'corto', 'corte', 'cosas', 'crear', 'crece', 'curva', 'dabas', 'dagas', 'damas', 'dando', 'datil', 'deban', 'dejas', 'demas', 'diana', 'dicho', 'dicha', 'dicta', 'dicte', 'diera', 'dieta', 'digna', 'doble', 'doblo', 'docil', 'docta', 'donde', 'drena', 'dreno', 'ducha', 'duelo', 'dudas', 'dunas', 'ebano', 'edema', 'enano', 'enana', 'entro', 'estio', 'exodo', 'fardo', 'finta', 'final', 'firme', 'fondo', 'fruta', 'fusil', 'gesto', 'gesta', 'grano', 'grito', 'grupo', 'guapo', 'gusto', 'harto', 'hacer', 'hedor', 'hondo', 'huevo', 'hurto', 'icono', 'indio', 'imita', 'islas', 'jamas', 'jamon', 'juego', 'julio', 'junto', 'junio', 'justo', 'lacra', 'laico', 'lagar', 'lamer', 'lanza', 'largo', 'larga', 'laton', 'lento', 'leona', 'lenga', 'leñas', 'limar', 'listo', 'litio', 'lugar', 'libro', 'limar', 'limon', 'lugar', 'manco', 'mando', 'manto', 'madre', 'marzo', 'medio', 'mente', 'metal', 'metas', 'meter', 'miedo', 'mirar', 'mirlo', 'misal', 'morbo', 'morsa', 'morar', 'mucho', 'mugre', 'mundo', 'nadar', 'nicho', 'nogal', 'noche', 'norte', 'nunca', 'oasis', 'obvio', 'oeste', 'olivo', 'oliva', 'omite', 'ondea', 'orden', 'orate', 'oruga', 'padre', 'palco', 'parte', 'parta', 'pasta', 'pasto', 'palta', 'perro', 'pesas', 'polca', 'ponga', 'presa', 'prisa', 'prosa', 'pulso', 'punta', 'puñal', 'pudor', 'queja', 'quema', 'quena', 'quera', 'queso', 'rabia', 'radio', 'rasca', 'razón', 'ramal', 'rabos', 'raton', 'reino', 'resma', 'resta', 'ritmo', 'roble', 'rosca', 'rocas', 'rugir', 'sacas', 'sacos', 'saldo', 'sales', 'salgo', 'salud', 'salon', 'salva', 'sanas', 'santo', 'salto', 'sesgo', 'sigue', 'socio', 'sopas', 'sordo', 'sucio', 'sueco', 'suero', 'suelo', 'sufre', 'susto', 'tacos', 'tanto', 'tarro', 'tenue', 'terco', 'terso', 'texto', 'tifon', 'timar', 'tipos', 'total', 'tosco', 'traba', 'trago', 'traje', 'trato', 'trepa', 'trino', 'trote', 'turba', 'turno', 'ubica', 'ubico', 'ufano', 'unete', 'ungir', 'unico', 'union', 'untar', 'urdir', 'urden', 'urgir', 'usare', 'usado', 'usara', 'vaina', 'vagar', 'valle', 'villa', 'vasto', 'vacio', 'vasos', 'venas', 'venda', 'venta', 'verde', 'vicio', 'video', 'vista', 'viudo', 'vivir', 'votas', 'zafar', 'zanco', 'zebra', 'zurdo']\n",
            "Propuesta: cañon / Clasificacion: gagag / Pal. filtradas: ['abajo', 'abeto', 'abuso', 'afilo', 'ahora', 'amago', 'asilo', 'atora', 'aviso', 'azote', 'bogar', 'bolsa', 'bozal', 'brazo', 'fardo', 'guapo', 'harto', 'largo', 'marzo', 'morsa', 'morar', 'oasis', 'oliva', 'orate', 'oruga', 'pasto', 'prosa', 'radio', 'rabos', 'saldo', 'salgo', 'salto', 'sopas', 'tarro', 'total', 'trago', 'trato', 'usado', 'vasto', 'vasos', 'votas']\n",
            "Propuesta: usado / Clasificacion: gvagv / Pal. filtradas: ['asilo']\n",
            "Propuesta: asilo / Clasificacion: vvvvv / Pal. filtradas: ['asilo']\n",
            "PALABRA ENCONTRADA: asilo\n",
            "JUEGO 5\n",
            "['abaco', 'abajo', 'abate', 'abeja', 'abeto', 'abuso', 'abril', 'afilo', 'afino', 'aguja', 'ahora', 'asila', 'alaba', 'alega', 'amago', 'amiga', 'animo', 'anulo', 'anodo', 'anido', 'ansar', 'añejo', 'asilo', 'asume', 'atora', 'aviso', 'avisa', 'avena', 'ayuda', 'azote', 'baden', 'bagre', 'basta', 'balde', 'banda', 'balsa', 'banco', 'barco', 'basta', 'besas', 'besos', 'boina', 'bogar', 'bolsa', 'bolso', 'bozal', 'brazo', 'briza', 'brote', 'bueno', 'caber', 'cabes', 'calor', 'campo', 'canal', 'canto', 'canta', 'canto', 'cañon', 'cardo', 'carta', 'carne', 'cavar', 'caves', 'cesta', 'cinta', 'circo', 'cisne', 'claro', 'clara', 'cobre', 'conos', 'corta', 'corto', 'corte', 'cosas', 'crear', 'crece', 'curva', 'dabas', 'dagas', 'damas', 'dando', 'datil', 'deban', 'dejas', 'demas', 'diana', 'dicho', 'dicha', 'dicta', 'dicte', 'diera', 'dieta', 'digna', 'doble', 'doblo', 'docil', 'docta', 'donde', 'drena', 'dreno', 'ducha', 'duelo', 'dudas', 'dunas', 'ebano', 'edema', 'enano', 'enana', 'entro', 'estio', 'exodo', 'fardo', 'finta', 'final', 'firme', 'fondo', 'fruta', 'fusil', 'gesto', 'gesta', 'grano', 'grito', 'grupo', 'guapo', 'gusto', 'harto', 'hacer', 'hedor', 'hondo', 'huevo', 'hurto', 'icono', 'indio', 'imita', 'islas', 'jamas', 'jamon', 'juego', 'julio', 'junto', 'junio', 'justo', 'lacra', 'laico', 'lagar', 'lamer', 'lanza', 'largo', 'larga', 'laton', 'lento', 'leona', 'lenga', 'leñas', 'limar', 'listo', 'litio', 'lugar', 'libro', 'limar', 'limon', 'lugar', 'manco', 'mando', 'manto', 'madre', 'marzo', 'medio', 'mente', 'metal', 'metas', 'meter', 'miedo', 'mirar', 'mirlo', 'misal', 'morbo', 'morsa', 'morar', 'mucho', 'mugre', 'mundo', 'nadar', 'nicho', 'nogal', 'noche', 'norte', 'nunca', 'oasis', 'obvio', 'oeste', 'olivo', 'oliva', 'omite', 'ondea', 'orden', 'orate', 'oruga', 'padre', 'palco', 'parte', 'parta', 'pasta', 'pasto', 'palta', 'perro', 'pesas', 'polca', 'ponga', 'presa', 'prisa', 'prosa', 'pulso', 'punta', 'puñal', 'pudor', 'queja', 'quema', 'quena', 'quera', 'queso', 'rabia', 'radio', 'rasca', 'razón', 'ramal', 'rabos', 'raton', 'reino', 'resma', 'resta', 'ritmo', 'roble', 'rosca', 'rocas', 'rugir', 'sacas', 'sacos', 'saldo', 'sales', 'salgo', 'salud', 'salon', 'salva', 'sanas', 'santo', 'salto', 'sesgo', 'sigue', 'socio', 'sopas', 'sordo', 'sucio', 'sueco', 'suero', 'suelo', 'sufre', 'susto', 'tacos', 'tanto', 'tarro', 'tenue', 'terco', 'terso', 'texto', 'tifon', 'timar', 'tipos', 'total', 'tosco', 'traba', 'trago', 'traje', 'trato', 'trepa', 'trino', 'trote', 'turba', 'turno', 'ubica', 'ubico', 'ufano', 'unete', 'ungir', 'unico', 'union', 'untar', 'urdir', 'urden', 'urgir', 'usare', 'usado', 'usara', 'vaina', 'vagar', 'valle', 'villa', 'vasto', 'vacio', 'vasos', 'venas', 'venda', 'venta', 'verde', 'vicio', 'video', 'vista', 'viudo', 'vivir', 'votas', 'zafar', 'zanco', 'zebra', 'zurdo']\n",
            "Propuesta: abeto / Clasificacion: aggaa / Pal. filtradas: ['atora', 'canto', 'canto', 'corta', 'docta', 'harto', 'laton', 'manto', 'pasto', 'raton', 'santo', 'salto', 'tacos', 'tanto', 'tarro', 'total', 'trago', 'trato', 'vasto', 'votas']\n",
            "Propuesta: santo / Clasificacion: gvaaa / Pal. filtradas: ['canto', 'canto', 'laton', 'manto', 'raton', 'tanto']\n",
            "Propuesta: tanto / Clasificacion: avaaa / Pal. filtradas: ['canto', 'canto', 'laton', 'manto', 'raton', 'tanto']\n",
            "Propuesta: tanto / Clasificacion: avaaa / Pal. filtradas: ['canto', 'canto', 'laton', 'manto', 'raton', 'tanto']\n",
            "Propuesta: laton / Clasificacion: gvvvv / Pal. filtradas: ['raton']\n",
            "Propuesta: raton / Clasificacion: vvvvv / Pal. filtradas: ['raton']\n",
            "PALABRA ENCONTRADA: raton\n",
            "JUEGO 6\n",
            "['abaco', 'abajo', 'abate', 'abeja', 'abeto', 'abuso', 'abril', 'afilo', 'afino', 'aguja', 'ahora', 'asila', 'alaba', 'alega', 'amago', 'amiga', 'animo', 'anulo', 'anodo', 'anido', 'ansar', 'añejo', 'asilo', 'asume', 'atora', 'aviso', 'avisa', 'avena', 'ayuda', 'azote', 'baden', 'bagre', 'basta', 'balde', 'banda', 'balsa', 'banco', 'barco', 'basta', 'besas', 'besos', 'boina', 'bogar', 'bolsa', 'bolso', 'bozal', 'brazo', 'briza', 'brote', 'bueno', 'caber', 'cabes', 'calor', 'campo', 'canal', 'canto', 'canta', 'canto', 'cañon', 'cardo', 'carta', 'carne', 'cavar', 'caves', 'cesta', 'cinta', 'circo', 'cisne', 'claro', 'clara', 'cobre', 'conos', 'corta', 'corto', 'corte', 'cosas', 'crear', 'crece', 'curva', 'dabas', 'dagas', 'damas', 'dando', 'datil', 'deban', 'dejas', 'demas', 'diana', 'dicho', 'dicha', 'dicta', 'dicte', 'diera', 'dieta', 'digna', 'doble', 'doblo', 'docil', 'docta', 'donde', 'drena', 'dreno', 'ducha', 'duelo', 'dudas', 'dunas', 'ebano', 'edema', 'enano', 'enana', 'entro', 'estio', 'exodo', 'fardo', 'finta', 'final', 'firme', 'fondo', 'fruta', 'fusil', 'gesto', 'gesta', 'grano', 'grito', 'grupo', 'guapo', 'gusto', 'harto', 'hacer', 'hedor', 'hondo', 'huevo', 'hurto', 'icono', 'indio', 'imita', 'islas', 'jamas', 'jamon', 'juego', 'julio', 'junto', 'junio', 'justo', 'lacra', 'laico', 'lagar', 'lamer', 'lanza', 'largo', 'larga', 'laton', 'lento', 'leona', 'lenga', 'leñas', 'limar', 'listo', 'litio', 'lugar', 'libro', 'limar', 'limon', 'lugar', 'manco', 'mando', 'manto', 'madre', 'marzo', 'medio', 'mente', 'metal', 'metas', 'meter', 'miedo', 'mirar', 'mirlo', 'misal', 'morbo', 'morsa', 'morar', 'mucho', 'mugre', 'mundo', 'nadar', 'nicho', 'nogal', 'noche', 'norte', 'nunca', 'oasis', 'obvio', 'oeste', 'olivo', 'oliva', 'omite', 'ondea', 'orden', 'orate', 'oruga', 'padre', 'palco', 'parte', 'parta', 'pasta', 'pasto', 'palta', 'perro', 'pesas', 'polca', 'ponga', 'presa', 'prisa', 'prosa', 'pulso', 'punta', 'puñal', 'pudor', 'queja', 'quema', 'quena', 'quera', 'queso', 'rabia', 'radio', 'rasca', 'razón', 'ramal', 'rabos', 'raton', 'reino', 'resma', 'resta', 'ritmo', 'roble', 'rosca', 'rocas', 'rugir', 'sacas', 'sacos', 'saldo', 'sales', 'salgo', 'salud', 'salon', 'salva', 'sanas', 'santo', 'salto', 'sesgo', 'sigue', 'socio', 'sopas', 'sordo', 'sucio', 'sueco', 'suero', 'suelo', 'sufre', 'susto', 'tacos', 'tanto', 'tarro', 'tenue', 'terco', 'terso', 'texto', 'tifon', 'timar', 'tipos', 'total', 'tosco', 'traba', 'trago', 'traje', 'trato', 'trepa', 'trino', 'trote', 'turba', 'turno', 'ubica', 'ubico', 'ufano', 'unete', 'ungir', 'unico', 'union', 'untar', 'urdir', 'urden', 'urgir', 'usare', 'usado', 'usara', 'vaina', 'vagar', 'valle', 'villa', 'vasto', 'vacio', 'vasos', 'venas', 'venda', 'venta', 'verde', 'vicio', 'video', 'vista', 'viudo', 'vivir', 'votas', 'zafar', 'zanco', 'zebra', 'zurdo']\n",
            "Propuesta: ungir / Clasificacion: gggga / Pal. filtradas: ['ahora', 'atora', 'barco', 'brazo', 'brote', 'caber', 'calor', 'cardo', 'carta', 'cavar', 'claro', 'clara', 'cobre', 'corta', 'corto', 'corte', 'crear', 'crece', 'fardo', 'harto', 'hacer', 'hedor', 'lacra', 'lamer', 'madre', 'marzo', 'meter', 'morbo', 'morsa', 'morar', 'orate', 'padre', 'parte', 'parta', 'perro', 'presa', 'prosa', 'rasca', 'ramal', 'rabos', 'resma', 'resta', 'roble', 'rosca', 'rocas', 'sordo', 'tarro', 'terco', 'terso', 'traba', 'traje', 'trato', 'trepa', 'trote', 'verde', 'zafar', 'zebra']\n",
            "Propuesta: crece / Clasificacion: gaagv / Pal. filtradas: ['brote', 'madre', 'orate', 'padre', 'parte', 'roble', 'traje', 'trote', 'verde']\n",
            "Propuesta: brote / Clasificacion: gagvv / Pal. filtradas: ['parte']\n",
            "Propuesta: parte / Clasificacion: vvvvv / Pal. filtradas: ['parte']\n",
            "PALABRA ENCONTRADA: parte\n",
            "JUEGO 7\n",
            "['abaco', 'abajo', 'abate', 'abeja', 'abeto', 'abuso', 'abril', 'afilo', 'afino', 'aguja', 'ahora', 'asila', 'alaba', 'alega', 'amago', 'amiga', 'animo', 'anulo', 'anodo', 'anido', 'ansar', 'añejo', 'asilo', 'asume', 'atora', 'aviso', 'avisa', 'avena', 'ayuda', 'azote', 'baden', 'bagre', 'basta', 'balde', 'banda', 'balsa', 'banco', 'barco', 'basta', 'besas', 'besos', 'boina', 'bogar', 'bolsa', 'bolso', 'bozal', 'brazo', 'briza', 'brote', 'bueno', 'caber', 'cabes', 'calor', 'campo', 'canal', 'canto', 'canta', 'canto', 'cañon', 'cardo', 'carta', 'carne', 'cavar', 'caves', 'cesta', 'cinta', 'circo', 'cisne', 'claro', 'clara', 'cobre', 'conos', 'corta', 'corto', 'corte', 'cosas', 'crear', 'crece', 'curva', 'dabas', 'dagas', 'damas', 'dando', 'datil', 'deban', 'dejas', 'demas', 'diana', 'dicho', 'dicha', 'dicta', 'dicte', 'diera', 'dieta', 'digna', 'doble', 'doblo', 'docil', 'docta', 'donde', 'drena', 'dreno', 'ducha', 'duelo', 'dudas', 'dunas', 'ebano', 'edema', 'enano', 'enana', 'entro', 'estio', 'exodo', 'fardo', 'finta', 'final', 'firme', 'fondo', 'fruta', 'fusil', 'gesto', 'gesta', 'grano', 'grito', 'grupo', 'guapo', 'gusto', 'harto', 'hacer', 'hedor', 'hondo', 'huevo', 'hurto', 'icono', 'indio', 'imita', 'islas', 'jamas', 'jamon', 'juego', 'julio', 'junto', 'junio', 'justo', 'lacra', 'laico', 'lagar', 'lamer', 'lanza', 'largo', 'larga', 'laton', 'lento', 'leona', 'lenga', 'leñas', 'limar', 'listo', 'litio', 'lugar', 'libro', 'limar', 'limon', 'lugar', 'manco', 'mando', 'manto', 'madre', 'marzo', 'medio', 'mente', 'metal', 'metas', 'meter', 'miedo', 'mirar', 'mirlo', 'misal', 'morbo', 'morsa', 'morar', 'mucho', 'mugre', 'mundo', 'nadar', 'nicho', 'nogal', 'noche', 'norte', 'nunca', 'oasis', 'obvio', 'oeste', 'olivo', 'oliva', 'omite', 'ondea', 'orden', 'orate', 'oruga', 'padre', 'palco', 'parte', 'parta', 'pasta', 'pasto', 'palta', 'perro', 'pesas', 'polca', 'ponga', 'presa', 'prisa', 'prosa', 'pulso', 'punta', 'puñal', 'pudor', 'queja', 'quema', 'quena', 'quera', 'queso', 'rabia', 'radio', 'rasca', 'razón', 'ramal', 'rabos', 'raton', 'reino', 'resma', 'resta', 'ritmo', 'roble', 'rosca', 'rocas', 'rugir', 'sacas', 'sacos', 'saldo', 'sales', 'salgo', 'salud', 'salon', 'salva', 'sanas', 'santo', 'salto', 'sesgo', 'sigue', 'socio', 'sopas', 'sordo', 'sucio', 'sueco', 'suero', 'suelo', 'sufre', 'susto', 'tacos', 'tanto', 'tarro', 'tenue', 'terco', 'terso', 'texto', 'tifon', 'timar', 'tipos', 'total', 'tosco', 'traba', 'trago', 'traje', 'trato', 'trepa', 'trino', 'trote', 'turba', 'turno', 'ubica', 'ubico', 'ufano', 'unete', 'ungir', 'unico', 'union', 'untar', 'urdir', 'urden', 'urgir', 'usare', 'usado', 'usara', 'vaina', 'vagar', 'valle', 'villa', 'vasto', 'vacio', 'vasos', 'venas', 'venda', 'venta', 'verde', 'vicio', 'video', 'vista', 'viudo', 'vivir', 'votas', 'zafar', 'zanco', 'zebra', 'zurdo']\n",
            "Propuesta: sanas / Clasificacion: gagvg / Pal. filtradas: ['bogar', 'bozal', 'cavar', 'crear', 'lagar', 'limar', 'lugar', 'limar', 'lugar', 'metal', 'mirar', 'morar', 'puñal', 'ramal', 'timar', 'total', 'vagar', 'zafar']\n",
            "Propuesta: bogar / Clasificacion: gggvg / Pal. filtradas: ['metal', 'puñal']\n",
            "Propuesta: puñal / Clasificacion: vvvvv / Pal. filtradas: ['puñal']\n",
            "PALABRA ENCONTRADA: puñal\n",
            "JUEGO 8\n",
            "['abaco', 'abajo', 'abate', 'abeja', 'abeto', 'abuso', 'abril', 'afilo', 'afino', 'aguja', 'ahora', 'asila', 'alaba', 'alega', 'amago', 'amiga', 'animo', 'anulo', 'anodo', 'anido', 'ansar', 'añejo', 'asilo', 'asume', 'atora', 'aviso', 'avisa', 'avena', 'ayuda', 'azote', 'baden', 'bagre', 'basta', 'balde', 'banda', 'balsa', 'banco', 'barco', 'basta', 'besas', 'besos', 'boina', 'bogar', 'bolsa', 'bolso', 'bozal', 'brazo', 'briza', 'brote', 'bueno', 'caber', 'cabes', 'calor', 'campo', 'canal', 'canto', 'canta', 'canto', 'cañon', 'cardo', 'carta', 'carne', 'cavar', 'caves', 'cesta', 'cinta', 'circo', 'cisne', 'claro', 'clara', 'cobre', 'conos', 'corta', 'corto', 'corte', 'cosas', 'crear', 'crece', 'curva', 'dabas', 'dagas', 'damas', 'dando', 'datil', 'deban', 'dejas', 'demas', 'diana', 'dicho', 'dicha', 'dicta', 'dicte', 'diera', 'dieta', 'digna', 'doble', 'doblo', 'docil', 'docta', 'donde', 'drena', 'dreno', 'ducha', 'duelo', 'dudas', 'dunas', 'ebano', 'edema', 'enano', 'enana', 'entro', 'estio', 'exodo', 'fardo', 'finta', 'final', 'firme', 'fondo', 'fruta', 'fusil', 'gesto', 'gesta', 'grano', 'grito', 'grupo', 'guapo', 'gusto', 'harto', 'hacer', 'hedor', 'hondo', 'huevo', 'hurto', 'icono', 'indio', 'imita', 'islas', 'jamas', 'jamon', 'juego', 'julio', 'junto', 'junio', 'justo', 'lacra', 'laico', 'lagar', 'lamer', 'lanza', 'largo', 'larga', 'laton', 'lento', 'leona', 'lenga', 'leñas', 'limar', 'listo', 'litio', 'lugar', 'libro', 'limar', 'limon', 'lugar', 'manco', 'mando', 'manto', 'madre', 'marzo', 'medio', 'mente', 'metal', 'metas', 'meter', 'miedo', 'mirar', 'mirlo', 'misal', 'morbo', 'morsa', 'morar', 'mucho', 'mugre', 'mundo', 'nadar', 'nicho', 'nogal', 'noche', 'norte', 'nunca', 'oasis', 'obvio', 'oeste', 'olivo', 'oliva', 'omite', 'ondea', 'orden', 'orate', 'oruga', 'padre', 'palco', 'parte', 'parta', 'pasta', 'pasto', 'palta', 'perro', 'pesas', 'polca', 'ponga', 'presa', 'prisa', 'prosa', 'pulso', 'punta', 'puñal', 'pudor', 'queja', 'quema', 'quena', 'quera', 'queso', 'rabia', 'radio', 'rasca', 'razón', 'ramal', 'rabos', 'raton', 'reino', 'resma', 'resta', 'ritmo', 'roble', 'rosca', 'rocas', 'rugir', 'sacas', 'sacos', 'saldo', 'sales', 'salgo', 'salud', 'salon', 'salva', 'sanas', 'santo', 'salto', 'sesgo', 'sigue', 'socio', 'sopas', 'sordo', 'sucio', 'sueco', 'suero', 'suelo', 'sufre', 'susto', 'tacos', 'tanto', 'tarro', 'tenue', 'terco', 'terso', 'texto', 'tifon', 'timar', 'tipos', 'total', 'tosco', 'traba', 'trago', 'traje', 'trato', 'trepa', 'trino', 'trote', 'turba', 'turno', 'ubica', 'ubico', 'ufano', 'unete', 'ungir', 'unico', 'union', 'untar', 'urdir', 'urden', 'urgir', 'usare', 'usado', 'usara', 'vaina', 'vagar', 'valle', 'villa', 'vasto', 'vacio', 'vasos', 'venas', 'venda', 'venta', 'verde', 'vicio', 'video', 'vista', 'viudo', 'vivir', 'votas', 'zafar', 'zanco', 'zebra', 'zurdo']\n",
            "Propuesta: diera / Clasificacion: gggaa / Pal. filtradas: ['ahora', 'ansar', 'atora', 'barco', 'bogar', 'brazo', 'calor', 'carta', 'cavar', 'claro', 'clara', 'corta', 'curva', 'fruta', 'grano', 'harto', 'lacra', 'lagar', 'largo', 'larga', 'lugar', 'lugar', 'marzo', 'morsa', 'morar', 'oruga', 'parta', 'prosa', 'rasca', 'razón', 'ramal', 'rabos', 'raton', 'rosca', 'rocas', 'tarro', 'traba', 'trago', 'trato', 'turba', 'untar', 'usara', 'vagar', 'zafar']\n",
            "Propuesta: zafar / Clasificacion: gvgaa / Pal. filtradas: ['barco', 'calor', 'carta', 'cavar', 'harto', 'lacra', 'lagar', 'largo', 'larga', 'parta', 'rasca', 'ramal', 'rabos', 'raton', 'tarro', 'vagar']\n",
            "Propuesta: calor / Clasificacion: gvaaa / Pal. filtradas: ['largo']\n",
            "Propuesta: largo / Clasificacion: vvvvv / Pal. filtradas: ['largo']\n",
            "PALABRA ENCONTRADA: largo\n",
            "JUEGO 9\n",
            "['abaco', 'abajo', 'abate', 'abeja', 'abeto', 'abuso', 'abril', 'afilo', 'afino', 'aguja', 'ahora', 'asila', 'alaba', 'alega', 'amago', 'amiga', 'animo', 'anulo', 'anodo', 'anido', 'ansar', 'añejo', 'asilo', 'asume', 'atora', 'aviso', 'avisa', 'avena', 'ayuda', 'azote', 'baden', 'bagre', 'basta', 'balde', 'banda', 'balsa', 'banco', 'barco', 'basta', 'besas', 'besos', 'boina', 'bogar', 'bolsa', 'bolso', 'bozal', 'brazo', 'briza', 'brote', 'bueno', 'caber', 'cabes', 'calor', 'campo', 'canal', 'canto', 'canta', 'canto', 'cañon', 'cardo', 'carta', 'carne', 'cavar', 'caves', 'cesta', 'cinta', 'circo', 'cisne', 'claro', 'clara', 'cobre', 'conos', 'corta', 'corto', 'corte', 'cosas', 'crear', 'crece', 'curva', 'dabas', 'dagas', 'damas', 'dando', 'datil', 'deban', 'dejas', 'demas', 'diana', 'dicho', 'dicha', 'dicta', 'dicte', 'diera', 'dieta', 'digna', 'doble', 'doblo', 'docil', 'docta', 'donde', 'drena', 'dreno', 'ducha', 'duelo', 'dudas', 'dunas', 'ebano', 'edema', 'enano', 'enana', 'entro', 'estio', 'exodo', 'fardo', 'finta', 'final', 'firme', 'fondo', 'fruta', 'fusil', 'gesto', 'gesta', 'grano', 'grito', 'grupo', 'guapo', 'gusto', 'harto', 'hacer', 'hedor', 'hondo', 'huevo', 'hurto', 'icono', 'indio', 'imita', 'islas', 'jamas', 'jamon', 'juego', 'julio', 'junto', 'junio', 'justo', 'lacra', 'laico', 'lagar', 'lamer', 'lanza', 'largo', 'larga', 'laton', 'lento', 'leona', 'lenga', 'leñas', 'limar', 'listo', 'litio', 'lugar', 'libro', 'limar', 'limon', 'lugar', 'manco', 'mando', 'manto', 'madre', 'marzo', 'medio', 'mente', 'metal', 'metas', 'meter', 'miedo', 'mirar', 'mirlo', 'misal', 'morbo', 'morsa', 'morar', 'mucho', 'mugre', 'mundo', 'nadar', 'nicho', 'nogal', 'noche', 'norte', 'nunca', 'oasis', 'obvio', 'oeste', 'olivo', 'oliva', 'omite', 'ondea', 'orden', 'orate', 'oruga', 'padre', 'palco', 'parte', 'parta', 'pasta', 'pasto', 'palta', 'perro', 'pesas', 'polca', 'ponga', 'presa', 'prisa', 'prosa', 'pulso', 'punta', 'puñal', 'pudor', 'queja', 'quema', 'quena', 'quera', 'queso', 'rabia', 'radio', 'rasca', 'razón', 'ramal', 'rabos', 'raton', 'reino', 'resma', 'resta', 'ritmo', 'roble', 'rosca', 'rocas', 'rugir', 'sacas', 'sacos', 'saldo', 'sales', 'salgo', 'salud', 'salon', 'salva', 'sanas', 'santo', 'salto', 'sesgo', 'sigue', 'socio', 'sopas', 'sordo', 'sucio', 'sueco', 'suero', 'suelo', 'sufre', 'susto', 'tacos', 'tanto', 'tarro', 'tenue', 'terco', 'terso', 'texto', 'tifon', 'timar', 'tipos', 'total', 'tosco', 'traba', 'trago', 'traje', 'trato', 'trepa', 'trino', 'trote', 'turba', 'turno', 'ubica', 'ubico', 'ufano', 'unete', 'ungir', 'unico', 'union', 'untar', 'urdir', 'urden', 'urgir', 'usare', 'usado', 'usara', 'vaina', 'vagar', 'valle', 'villa', 'vasto', 'vacio', 'vasos', 'venas', 'venda', 'venta', 'verde', 'vicio', 'video', 'vista', 'viudo', 'vivir', 'votas', 'zafar', 'zanco', 'zebra', 'zurdo']\n",
            "Propuesta: resma / Clasificacion: agagv / Pal. filtradas: ['prisa', 'prosa', 'rasca', 'rosca', 'usara']\n",
            "Propuesta: prosa / Clasificacion: vvvvv / Pal. filtradas: ['prosa']\n",
            "PALABRA ENCONTRADA: prosa\n",
            "JUEGO 10\n",
            "['abaco', 'abajo', 'abate', 'abeja', 'abeto', 'abuso', 'abril', 'afilo', 'afino', 'aguja', 'ahora', 'asila', 'alaba', 'alega', 'amago', 'amiga', 'animo', 'anulo', 'anodo', 'anido', 'ansar', 'añejo', 'asilo', 'asume', 'atora', 'aviso', 'avisa', 'avena', 'ayuda', 'azote', 'baden', 'bagre', 'basta', 'balde', 'banda', 'balsa', 'banco', 'barco', 'basta', 'besas', 'besos', 'boina', 'bogar', 'bolsa', 'bolso', 'bozal', 'brazo', 'briza', 'brote', 'bueno', 'caber', 'cabes', 'calor', 'campo', 'canal', 'canto', 'canta', 'canto', 'cañon', 'cardo', 'carta', 'carne', 'cavar', 'caves', 'cesta', 'cinta', 'circo', 'cisne', 'claro', 'clara', 'cobre', 'conos', 'corta', 'corto', 'corte', 'cosas', 'crear', 'crece', 'curva', 'dabas', 'dagas', 'damas', 'dando', 'datil', 'deban', 'dejas', 'demas', 'diana', 'dicho', 'dicha', 'dicta', 'dicte', 'diera', 'dieta', 'digna', 'doble', 'doblo', 'docil', 'docta', 'donde', 'drena', 'dreno', 'ducha', 'duelo', 'dudas', 'dunas', 'ebano', 'edema', 'enano', 'enana', 'entro', 'estio', 'exodo', 'fardo', 'finta', 'final', 'firme', 'fondo', 'fruta', 'fusil', 'gesto', 'gesta', 'grano', 'grito', 'grupo', 'guapo', 'gusto', 'harto', 'hacer', 'hedor', 'hondo', 'huevo', 'hurto', 'icono', 'indio', 'imita', 'islas', 'jamas', 'jamon', 'juego', 'julio', 'junto', 'junio', 'justo', 'lacra', 'laico', 'lagar', 'lamer', 'lanza', 'largo', 'larga', 'laton', 'lento', 'leona', 'lenga', 'leñas', 'limar', 'listo', 'litio', 'lugar', 'libro', 'limar', 'limon', 'lugar', 'manco', 'mando', 'manto', 'madre', 'marzo', 'medio', 'mente', 'metal', 'metas', 'meter', 'miedo', 'mirar', 'mirlo', 'misal', 'morbo', 'morsa', 'morar', 'mucho', 'mugre', 'mundo', 'nadar', 'nicho', 'nogal', 'noche', 'norte', 'nunca', 'oasis', 'obvio', 'oeste', 'olivo', 'oliva', 'omite', 'ondea', 'orden', 'orate', 'oruga', 'padre', 'palco', 'parte', 'parta', 'pasta', 'pasto', 'palta', 'perro', 'pesas', 'polca', 'ponga', 'presa', 'prisa', 'prosa', 'pulso', 'punta', 'puñal', 'pudor', 'queja', 'quema', 'quena', 'quera', 'queso', 'rabia', 'radio', 'rasca', 'razón', 'ramal', 'rabos', 'raton', 'reino', 'resma', 'resta', 'ritmo', 'roble', 'rosca', 'rocas', 'rugir', 'sacas', 'sacos', 'saldo', 'sales', 'salgo', 'salud', 'salon', 'salva', 'sanas', 'santo', 'salto', 'sesgo', 'sigue', 'socio', 'sopas', 'sordo', 'sucio', 'sueco', 'suero', 'suelo', 'sufre', 'susto', 'tacos', 'tanto', 'tarro', 'tenue', 'terco', 'terso', 'texto', 'tifon', 'timar', 'tipos', 'total', 'tosco', 'traba', 'trago', 'traje', 'trato', 'trepa', 'trino', 'trote', 'turba', 'turno', 'ubica', 'ubico', 'ufano', 'unete', 'ungir', 'unico', 'union', 'untar', 'urdir', 'urden', 'urgir', 'usare', 'usado', 'usara', 'vaina', 'vagar', 'valle', 'villa', 'vasto', 'vacio', 'vasos', 'venas', 'venda', 'venta', 'verde', 'vicio', 'video', 'vista', 'viudo', 'vivir', 'votas', 'zafar', 'zanco', 'zebra', 'zurdo']\n",
            "Propuesta: sueco / Clasificacion: gvggg / Pal. filtradas: ['lugar', 'lugar', 'punta', 'puñal', 'rugir', 'turba']\n",
            "Propuesta: lugar / Clasificacion: gvvgv / Pal. filtradas: ['rugir']\n",
            "Propuesta: rugir / Clasificacion: vvvvv / Pal. filtradas: ['rugir']\n",
            "PALABRA ENCONTRADA: rugir\n"
          ]
        }
      ]
    },
    {
      "cell_type": "markdown",
      "source": [
        "## ¿Qué hay que entregar?\n",
        "\n",
        "Usted debe crear una copia de este documento (del menú seleccionar \"Archivo\" o \"File\" y de ahi la opción \"guardar copia en Drive\" o \"save a copy in Drive\"). Este nuevo documento (notebook de Colab) es el que debe modificar para luego compartirlo con la opción \"Cualquier usuario de internet con este enlace puede ver esto\" (o “Anyone on the internet with this link can view”). Esta opción se encuentra disponible en la parte superior derecha de su notebook, en el botón \"Compartir\" (o \"Share\"). Una vez que tenga disponible el enlace, colocarlo en la descripción de la entrega de su tarea. No olvide colocar su nombre dentro del notebook."
      ],
      "metadata": {
        "id": "kTFnyLnlwc-E"
      }
    },
    {
      "cell_type": "code",
      "source": [],
      "metadata": {
        "id": "ex4a6f0PvMal"
      },
      "execution_count": null,
      "outputs": []
    }
  ]
}