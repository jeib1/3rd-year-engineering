{
  "nbformat": 4,
  "nbformat_minor": 0,
  "metadata": {
    "colab": {
      "name": "Copia de CC3001 - Ejercicio 7.ipynb",
      "provenance": [],
      "collapsed_sections": []
    },
    "kernelspec": {
      "name": "python3",
      "display_name": "Python 3"
    },
    "language_info": {
      "name": "python"
    }
  },
  "cells": [
    {
      "cell_type": "markdown",
      "source": [
        "# Ejercicio 5.1 (Juan Espinoza C.)\n",
        "\n",
        "En este ejercicio se trata chequear si una secuencia de paréntesis está bien escrita. Si hay solo un tipo de paréntesis, por ejemplo ( y ), una secuencia correcta sería (()(())) y una incorrecta seria (()))()( o ()). Ésta sería una tarea fácil de responder, pues bastaría con llevar un contador de paréntesis abiertos, que se incrementa cuando se encuentra un ( y se decrementa cuando se encuentra un ) y se va chequeando que este contador nunca sea negativo y cuando se termine la secuencia el contador quede en 0. "
      ],
      "metadata": {
        "id": "61LaSdV5_AeL"
      }
    },
    {
      "cell_type": "code",
      "execution_count": 2,
      "metadata": {
        "id": "7g4VCOWr-2rK"
      },
      "outputs": [],
      "source": [
        "def chequeo(s): # s es un strings con una secuencia de paréntesis ( )\n",
        "    i = 0 # contador de paréntesis abiertos\n",
        "    for c in s: \n",
        "        if c == \"(\":\n",
        "            i +=1\n",
        "        else:\n",
        "            i -=1\n",
        "        if i < 0: break\n",
        "    if i == 0: return \"CORRECTA\"\n",
        "    else : return \"INCORRECTA Contador = \"+str(i)"
      ]
    },
    {
      "cell_type": "markdown",
      "source": [
        "Probemos con los ejemplos :"
      ],
      "metadata": {
        "id": "PhTvc7P6_Zly"
      }
    },
    {
      "cell_type": "code",
      "source": [
        "print(chequeo(\"(()(()))\"))\n",
        "print(chequeo(\"(())(()\"))\n",
        "print(chequeo(\"(()))\"))"
      ],
      "metadata": {
        "id": "V9xvcZXj_aE5",
        "colab": {
          "base_uri": "https://localhost:8080/"
        },
        "outputId": "bb91e88c-b566-4c08-d391-42e4272f62e9"
      },
      "execution_count": 3,
      "outputs": [
        {
          "output_type": "stream",
          "name": "stdout",
          "text": [
            "CORRECTA\n",
            "INCORRECTA Contador = 1\n",
            "INCORRECTA Contador = -1\n"
          ]
        }
      ]
    },
    {
      "cell_type": "markdown",
      "source": [
        "El problema se hace bastante más complejo cuando hay más de un tipo de paréntesis, por ejemplo (), [] y {} y ellos tienen que estar balanceados respectivamente, es decir se permite {([]{()})} o [{()[]}] pero no ([{]}) o {[()}]\n",
        "Esto se puede hacer con la ayuda de un Stack o Pila, inicialmente vacío.\n",
        "Luego, por cada símbolo que se va chequeando:\n",
        "   - si es un abre paréntesis entonces se pone en el stack y se continúa con el chequeo del próximo símbolo\n",
        "   - si es un cierra paréntesis entonces se revisa el elemento del tope del stack\n",
        "    - si el stack está vacío, entonces la secuencia está mal escrita y ahí termina el proceso. \n",
        "    - si el stack no está vacío, se extrae el símbolo del tope y se chequea si es un abre paréntesis que coincide con el tipo de cierra paréntesis que se encontró. Si es así, se continúa con el chequeo del próximo símbolo, si no la fórmula está mal escrita y ahí termina el proceso. \n",
        "\n",
        "Al final del proceso se debe chequear si el stack esta vacío, con lo cual se comprueba que la fórmula esta bien escrita. Si no, la fórmula está mal escrita."
      ],
      "metadata": {
        "id": "694fcUn6_fty"
      }
    },
    {
      "cell_type": "markdown",
      "source": [
        "Se le pide escribir una funcion chequeo2 que reciba 3 parametros de tipo string: ``s``, ``a`` y ``b``. En ``s`` viene la secuencia de paréntesis a chequear, en ``a`` vienen los abre parentesis permitidos y en ``b`` los cierra paréntesis respectivos de modo que en ``b[i]`` está el paréntesis que cierra a ``a[i]``. \n",
        "Por simplicidad use la implementacion de pila que viene a continuacion "
      ],
      "metadata": {
        "id": "7GH9OeB1_j5W"
      }
    },
    {
      "cell_type": "code",
      "source": [
        "class Pila:\n",
        "    def __init__(self):\n",
        "        self.s=[]\n",
        "    def push(self,x):\n",
        "        self.s.append(x)\n",
        "    def pop(self):\n",
        "        assert len(self.s)>0\n",
        "        return self.s.pop() # pop de lista, no de Pila\n",
        "    def is_empty(self):\n",
        "        return len(self.s)==0"
      ],
      "metadata": {
        "id": "9ycPIjFA_gTZ"
      },
      "execution_count": 48,
      "outputs": []
    },
    {
      "cell_type": "markdown",
      "source": [
        "Y escriba la funcion a continuación:"
      ],
      "metadata": {
        "id": "1OONnG5t_rFo"
      }
    },
    {
      "cell_type": "code",
      "source": [
        "def chequeo2(s, a, b):\n",
        "    p=Pila() #se crea la pila\n",
        "    for k in range(0,len(s)): #se recorre el string s\n",
        "      if s[k] in a: #es un abre parentesis\n",
        "        p.push(s[k]) #se anade a la pila\n",
        "      if s[k] in b: #es un cierra parentesis\n",
        "        if p.is_empty(): #si esta vacio -> mal escrito\n",
        "          return 'mal escrito'\n",
        "        x=p.pop() #se popea el ultimo elemento para comprobar si se cierra con el ultimo cierra parentesis\n",
        "        if a.index(x)!=b.index(s[k]): #si no se cierra (no poseen el mismo indice en sus respectivos strings a,b) -> mal escrito\n",
        "          return 'mal escrito'\n",
        "    if p.is_empty: #paso la prueba, ahora se comprueba si esta vacio, solo si lo esta -> escrito correctamente\n",
        "      return 'correcto'\n",
        "    else: return 'mal escrito'\n"
      ],
      "metadata": {
        "id": "uvrtZIP0_rfD"
      },
      "execution_count": 49,
      "outputs": []
    },
    {
      "cell_type": "markdown",
      "source": [
        "Pruébela con los siguientes casos:"
      ],
      "metadata": {
        "id": "qCOwVkTl_toR"
      }
    },
    {
      "cell_type": "code",
      "source": [
        "print(chequeo2(\"(()())\",\"(\",\")\"))\n",
        "print(chequeo2(\"{([]{()})}\",\"{[(\",\"}])\"))\n",
        "print(chequeo2(\"{([]()})}\",\"{[(\",\"}])\"))\n",
        "print(chequeo2(\"{<{<>}>}\", \"{<\",\"}>\"))\n",
        "print(chequeo2(\"{<{<>>}>}\", \"{<\",\"}>\"))"
      ],
      "metadata": {
        "id": "K3n6fDID_wKr",
        "colab": {
          "base_uri": "https://localhost:8080/"
        },
        "outputId": "ab835bbf-e013-4737-e64d-9c23e37cc90e"
      },
      "execution_count": 50,
      "outputs": [
        {
          "output_type": "stream",
          "name": "stdout",
          "text": [
            "correcto\n",
            "correcto\n",
            "mal escrito\n",
            "correcto\n",
            "mal escrito\n"
          ]
        }
      ]
    }
  ]
}