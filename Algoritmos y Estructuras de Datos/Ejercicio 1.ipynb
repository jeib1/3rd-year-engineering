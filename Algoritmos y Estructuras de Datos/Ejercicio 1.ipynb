{
  "cells": [
    {
      "cell_type": "markdown",
      "metadata": {
        "id": "cBfRYLFr7ptU"
      },
      "source": [
        "### Ejercicio 1.1\n",
        "\n",
        "La función ``maximo`` hace $n-1$ comparaciones de elementos para encontrar el máximo de un conjunto de tamaño $n$.\n"
      ]
    },
    {
      "cell_type": "code",
      "execution_count": null,
      "metadata": {
        "id": "O1GZ2-gO7ptX",
        "outputId": "72fd5b7f-b62d-4b87-ca3f-8a1428d9bf2e",
        "colab": {
          "base_uri": "https://localhost:8080/"
        }
      },
      "outputs": [
        {
          "output_type": "stream",
          "name": "stdout",
          "text": [
            "93\n"
          ]
        }
      ],
      "source": [
        "# Encuentra el máximo de una lista a\n",
        "def maximo(a):\n",
        "    m=a[0]\n",
        "    # Al comenzar cada iteración, se cumple que m==max(a[0],...,a[k-1])\n",
        "    for k in range(1,len(a)):\n",
        "        if a[k]>m:\n",
        "            m=a[k]\n",
        "    return m\n",
        "\n",
        "print(maximo([25, 42, 93, 17, 54, 28]))"
      ]
    },
    {
      "cell_type": "markdown",
      "metadata": {
        "id": "djRfkA-07ptZ"
      },
      "source": [
        "Supongamos que se desea escribir una función ``minmax`` que al ser llamada con una lista de números, retorne un par ordenado (tupla) ``(min,max)``, con el mínimo y el máximo elemento del conjunto, respectivamente. Escriba a continuación esa función haciendo dos pasadas sobre los datos: una para encontrar el mínimo y otra para encontrar el máximo, y pruébela sobre una lista de ejemplo."
      ]
    },
    {
      "cell_type": "code",
      "execution_count": null,
      "metadata": {
        "id": "kkrJk5YK7pta",
        "outputId": "603adff8-c940-4063-8d8a-02f016766741",
        "colab": {
          "base_uri": "https://localhost:8080/"
        }
      },
      "outputs": [
        {
          "output_type": "stream",
          "name": "stdout",
          "text": [
            "(17, 93)\n"
          ]
        }
      ],
      "source": [
        "def minmax(a):\n",
        "    # escribir la función aquí\n",
        "    minimo=a[0]\n",
        "    maximo=a[0]\n",
        "    for k in range(1,len(a)):\n",
        "        if a[k]<minimo:\n",
        "            minimo=a[k]\n",
        "    for k in range(1,len(a)):\n",
        "        if a[k]>maximo:\n",
        "            maximo=a[k]\n",
        "    return(minimo,maximo)\n",
        "\n",
        "# Probarla acá\n",
        "print(minmax([25, 42, 93, 17, 54, 28]))"
      ]
    },
    {
      "cell_type": "markdown",
      "metadata": {
        "id": "P3dP2uel7ptc"
      },
      "source": [
        "La función anterior debería hacer $2n-2$ comparaciones de elementos ($2n-3$ si se evita comparar el elemento seleccionado en la primera pasada). ¿Será posible encontrar el mínimo y el máximo haciendo muchas menos comparaciones?\n",
        "\n",
        "¡La respuesta es que sí! Veámoslo con un ejemplo. Para simplificar, supongamos que la lista es de largo par:\n",
        "\n",
        "$$\n",
        "[45,21,34,67,55,89,44,12]\n",
        "$$\n",
        "\n",
        "Luego comparemos cada elemento que está en una posición par con su vecino de la derecha, e intercambiémoslos de modo que el par quede en orden ascendente (recuerde que las posiciones comienzan desde cero):\n",
        "\n",
        "$$\n",
        "[21,45,34,67,55,89,12,44]\n",
        "$$\n",
        "\n",
        "Luego hagamos una pasada solo sobre las posiciones pares para encontrar el mínimo ($12$), y otra pasada solo entre las posiciones impares para encontrar el máximo ($89$). ¡Listo!\n",
        "\n",
        "Programe este nuevo algoritmo, pruébelo y diga cuántas comparaciones hace en total:\n",
        "\n",
        "---"
      ]
    },
    {
      "cell_type": "code",
      "execution_count": null,
      "metadata": {
        "id": "6nuLx03C7ptc",
        "colab": {
          "base_uri": "https://localhost:8080/"
        },
        "outputId": "c6a1744c-6996-403a-a270-5904cb40e913"
      },
      "outputs": [
        {
          "output_type": "stream",
          "name": "stdout",
          "text": [
            "[21, 45, 34, 67, 55, 89, 12, 44]\n",
            "(12, 89)\n"
          ]
        }
      ],
      "source": [
        "def minmax(a):\n",
        "    # escribir la función aquí\n",
        "    l=[]\n",
        "    for k in range(0,int(len(a)/2)):\n",
        "      if a[2*k]>a[2*k+1]:\n",
        "        l=l+[a[2*k+1]]+[a[2*k]]\n",
        "      else:\n",
        "        l=l+[a[2*k]]+[a[2*k+1]]\n",
        "    print(l)\n",
        "    minimo=l[0]\n",
        "    maximo=l[1]\n",
        "    for k in range(1,int(len(a)/2)):\n",
        "      if l[2*k]<minimo:\n",
        "        minimo=l[2*k]\n",
        "      if l[2*k+1]>maximo:\n",
        "        maximo=l[2*k+1]\n",
        "    return(minimo,maximo)\n",
        "\n",
        "# Probarla acá\n",
        "print(minmax([45,21,34,67,55,89,44,12]))"
      ]
    },
    {
      "cell_type": "markdown",
      "metadata": {
        "id": "918aKFl77pte"
      },
      "source": [
        "### Ejercicio 1.2\n",
        "\n",
        "Existe un algoritmo alternativo a Hoare, que resulta en una codificación más sencilla. Este algoritmo, debido a **Lomuto**, se basa en el siguiente invariante:\n",
        "\n",
        "![particion-Lomuto](https://github.com/ivansipiran/AED-Apuntes/blob/main/recursos/particion-Lomuto.png?raw=1)\n",
        "\n",
        "En este algoritmo, en cada iteración, si $a[j]<p$, se intercambian $a[i]$ con $a[j]$ y se incrementa $i$, porque ahora hay un elemento más en el grupo de los menores que $p$. Después de esto, se incrementa $j$, *incondicionalmente* (¿por qué es correcto hacer eso?).\n",
        "\n",
        "Programe la partición de Lomuto en el recuadro siguiente y pruébela."
      ]
    },
    {
      "cell_type": "code",
      "execution_count": null,
      "metadata": {
        "id": "wl1Fjxqk7pte"
      },
      "outputs": [],
      "source": [
        "def particionLomuto(a,p):\n",
        "    # retorna el punto de corte, el número de elementos <p y la lista particionada\n",
        "    # escribir acá el algoritmo de partición de Lomuto\n",
        "    i=-1\n",
        "    j=0\n",
        "    while j<len(a): #iteraciones\n",
        "        if a[j]<p: #si a[j] es menor al pivote, intercambio con a[i]\n",
        "            i=i+1\n",
        "            a[i],a[j]=a[j],a[i]\n",
        "        j=j+1 #avance \n",
        "    return (p,i+1,a) "
      ]
    },
    {
      "cell_type": "code",
      "execution_count": null,
      "metadata": {
        "id": "M576VDKV7pte"
      },
      "outputs": [],
      "source": [
        "def verifica_particion(t): # imprime y chequea partición\n",
        "    (p,m,a)=t\n",
        "    # p=punto de corte, m=número de elementos <p, a=lista completa particionada\n",
        "    print(a[0:m],p,a[m:])\n",
        "    print(\"Partición OK\" if (m==0 or max(a[0:m])<p) and (m==len(a) or min(a[m:])>p)\n",
        "          else \"Error\")"
      ]
    },
    {
      "cell_type": "code",
      "execution_count": null,
      "metadata": {
        "id": "_OunLL_g7ptg",
        "colab": {
          "base_uri": "https://localhost:8080/"
        },
        "outputId": "05a076a9-2910-44ad-d41b-b97ff2c25021"
      },
      "outputs": [
        {
          "output_type": "stream",
          "name": "stdout",
          "text": [
            "[21, 34, 37, 15, 36] 50 [73, 77, 65, 82, 98, 56]\n",
            "Partición OK\n"
          ]
        }
      ],
      "source": [
        "verifica_particion(particionLomuto([73,21,34,98,56,37,77,65,82,15,36],50))"
      ]
    },
    {
      "cell_type": "code",
      "execution_count": null,
      "metadata": {
        "id": "ilE-WOHH7ptg",
        "colab": {
          "base_uri": "https://localhost:8080/"
        },
        "outputId": "1d1b16fa-2826-494c-b710-8edb69e6974c"
      },
      "outputs": [
        {
          "output_type": "stream",
          "name": "stdout",
          "text": [
            "[] 0 [73, 21, 34, 98, 56, 37, 77, 65, 82, 15, 36]\n",
            "Partición OK\n"
          ]
        }
      ],
      "source": [
        "verifica_particion(particionLomuto([73,21,34,98,56,37,77,65,82,15,36],0))"
      ]
    },
    {
      "cell_type": "code",
      "execution_count": null,
      "metadata": {
        "id": "N8j2Q4JL7ptg",
        "colab": {
          "base_uri": "https://localhost:8080/"
        },
        "outputId": "07c77bc2-2d43-44a7-9b11-11e5b462bfe3"
      },
      "outputs": [
        {
          "output_type": "stream",
          "name": "stdout",
          "text": [
            "[73, 21, 34, 98, 56, 37, 77, 65, 82, 15, 36] 100 []\n",
            "Partición OK\n"
          ]
        }
      ],
      "source": [
        "verifica_particion(particionLomuto([73,21,34,98,56,37,77,65,82,15,36],100))"
      ]
    },
    {
      "cell_type": "markdown",
      "metadata": {
        "id": "9BkCklGE7ptg"
      },
      "source": [
        "### Ejercicio 1.3\n",
        "\n",
        "Un polinomio se puede evaluar en tiempo lineal sin necesidad de una variable auxiliar si observamos que $P(x)$ se puede factorizar como:\n",
        "\n",
        "$$\n",
        "P(x) = a_0 +x(a_1+x(\\cdots+x(a_{n-1}+x(a_n))\\cdots))\n",
        "$$\n",
        "\n",
        "Por ejemplo,\n",
        "\n",
        "$$\n",
        "\\begin{align}\n",
        "P(x) &= 5+2x-3x^2+4x^3\\\\\n",
        " &=5+x(2+x(-3+x(4)))\n",
        "\\end{align}\n",
        "$$\n",
        "\n",
        "Programe un algoritmo iterativo que evalúe el polinomio utilizando esta idea. Comience desde el paréntesis más interno y vaya avanzando hacia la izquierda. Indique cuál es el invariante que utiliza. El algoritmo resultante se llama la **Regla de Horner**."
      ]
    },
    {
      "cell_type": "code",
      "execution_count": null,
      "metadata": {
        "id": "b_Ywr3wx7pti"
      },
      "outputs": [],
      "source": [
        "def evalp(a,x):\n",
        "    \"\"\"Evalúa en el punto x el polinomio cuyos coeficientes son a[0], a[1],...\n",
        "    utilizando la Regla de Horner\n",
        "    Retorna el valor calculado\n",
        "    \"\"\"\n",
        "    # Escriba aquí su algoritmo\n",
        "    \n",
        "    return P"
      ]
    },
    {
      "cell_type": "code",
      "execution_count": null,
      "metadata": {
        "id": "43fZvG7e7pti"
      },
      "outputs": [],
      "source": [
        "print(evalp([5,2,-3,4],2))"
      ]
    },
    {
      "cell_type": "markdown",
      "metadata": {
        "id": "aUhaxwkK7ptj"
      },
      "source": [
        "### Ejercicio 1.4\n",
        "\n",
        "Se le llama \"Camel Case\" a la convención de escribir una frase sin espacios, pero marcando el inicio de cada palabra poniendo su primera letra en mayúscula. Por ejemplo, la frase\n",
        "```\n",
        "\"  Algoritmos y    estructuras de   datos   \"\n",
        "```\n",
        "transformada a Camel Case queda así:\n",
        "```\n",
        "\"AlgoritmosYEstructurasDeDatos\"\n",
        "```\n",
        "\n",
        "Escriba una función que transforme a Camel Case y pruébela:"
      ]
    },
    {
      "cell_type": "code",
      "execution_count": null,
      "metadata": {
        "id": "dt7rqW0U7ptj"
      },
      "outputs": [],
      "source": [
        "def CamelCase(s):\n",
        "    \"\"\"Retorna un string conteniendo la versión Camel Case del string s\"\"\"\n",
        "    # escriba aquí su algoritmo"
      ]
    },
    {
      "cell_type": "code",
      "execution_count": null,
      "metadata": {
        "id": "PlipiGm57ptk"
      },
      "outputs": [],
      "source": [
        "print(CamelCase(\"    Algoritmos y    estructuras de   datos   \"))"
      ]
    },
    {
      "cell_type": "markdown",
      "metadata": {
        "id": "hmbaHlmM7ptk"
      },
      "source": [
        "### Ejercicio 1.5 - Permutaciones\n",
        "\n",
        "Una función recursiva que genera e imprime todas las permutaciones de un arreglo se puede plantear\n",
        "de la siguiente manera:\n",
        "\n",
        "~~~python\n",
        "def permutaciones(x,ini,fin):\n",
        "~~~\n",
        "   genera las permutaciones del arreglo x desde el elemento\n",
        "   con índice ini hasta el elemento con índice fin  \n",
        "   \n",
        "- Si $ini$ es igual a $fin$ implica que se pide la permutación de un solo elemento, y en ese momento se imprime\n",
        "  todo el contenido del arreglo\n",
        "- De lo contrario, para todos los elementos $x[i]$ con $i$ desde $ini$ hasta $fin$ ($fin$ incluido) se hace lo siguiente:\n",
        "                 . se intercambia el valor del i-ésimo elemento con el inicial\n",
        "                 . se llama recursivamente a la función permutaciones con el \n",
        "                    índice del primer elemento incrementado: permutaciones(x, ini+1, fin)\n",
        "                 . Se vuelven a restaurar los valores del elemento inicial con el i-ésimo\n",
        "\n",
        "Implemente la función \"permutaciones\" que imprima todas las permutaciones de un arreglo de entrada. Probar su función con arreglos de tamaño 1, 3 y 5."
      ]
    },
    {
      "cell_type": "code",
      "execution_count": null,
      "metadata": {
        "id": "8FC_LfDc7ptl"
      },
      "outputs": [],
      "source": []
    }
  ],
  "metadata": {
    "kernelspec": {
      "display_name": "Python 3",
      "language": "python",
      "name": "python3"
    },
    "language_info": {
      "codemirror_mode": {
        "name": "ipython",
        "version": 3
      },
      "file_extension": ".py",
      "mimetype": "text/x-python",
      "name": "python",
      "nbconvert_exporter": "python",
      "pygments_lexer": "ipython3",
      "version": "3.6.9"
    },
    "colab": {
      "provenance": []
    }
  },
  "nbformat": 4,
  "nbformat_minor": 0
}