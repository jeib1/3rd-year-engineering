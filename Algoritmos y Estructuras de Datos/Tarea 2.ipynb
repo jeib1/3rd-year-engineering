{
  "nbformat": 4,
  "nbformat_minor": 0,
  "metadata": {
    "colab": {
      "provenance": [],
      "collapsed_sections": []
    },
    "kernelspec": {
      "name": "python3",
      "display_name": "Python 3"
    },
    "language_info": {
      "name": "python"
    }
  },
  "cells": [
    {
      "cell_type": "markdown",
      "source": [
        "# CC3001 Otoño 2022 Tarea 2 [Juan-B. Espinoza Caimanque]\n",
        "\n",
        "## Expandir listas\n",
        "\n",
        "### Profesores\n",
        "Sección 1 Iván Sipirán •\n",
        "Sección 2 Patricio Poblete •\n",
        "Sección 3 Nelson Baloian\n",
        "\n"
      ],
      "metadata": {
        "id": "deCM246B_yVT"
      }
    },
    {
      "cell_type": "markdown",
      "source": [
        "# Enunciado\n",
        "\n",
        "En esta tarea se deberá implementar una función ``expandir(L)`` que construya y retorne una lista expandida a partir de otra lista dada ``L``, de la manera que se indica a continuación.\n",
        "\n",
        "La entrada para la función es una lista python que contiene elementos que pueden ser de tipo lista, tupla o un valor simple de cualquier tipo. El resultado debe ser una lista solo con elementos simples, que resulta de aplicar las siguientes reglas a cada elemento de la lista original: \n",
        "  - si el elemento es un valor simple, éste se agrega a la lista resultante \n",
        "   - Ejemplo: si la lista de entrada es $[2, 3]$ la lista de salida es $[2,3]$ \n",
        "  - si el elemento es a su vez también una lista, entonces cada uno de los    elementos de esa lista lista se agrega a la lista resultante como un elemento más. \n",
        "   - Ejemplo: si la lista de entrada es $[2, 3, [1, 2]]$ la lista de salida es $[2,3,1,2] $\n",
        "  - si el elemento es una tupla, entonces el primer elemento será un entero, digamos $x$ y el segundo una lista que llamaremos $s$. En este caso, hay que agregar $x$ veces los elementos de la lista $s$. \n",
        "    - Ejemplo: si la lista de entrada contiene $[1, (2,[2,3])]$ la lista de salida es $[1, 2, 3, 2, 3] $\n",
        "\n",
        "Lo que hace interesante este problema, es que cada elemento de una lista puede ser a su vez necesitar una expansión como explicamos anteriormente (elementos simples, listas o tuplas), por lo cual se deberá aplicar recursión en forma inteligente para resolver el problema. \n",
        "    \n",
        "   - Ejemplo: una lista de entrada puede ser $[5,[2,[2,[2,4,[0,(3,[1,2])]]]]]$ y la salida debe ser $[5, 2, 2, 2, 4, 0, 1, 2, 1, 2, 1, 2]$\n",
        "\n",
        "   Se le pide entonces escribir la función siguiente: "
      ],
      "metadata": {
        "id": "ZYDt_cQeNzca"
      }
    },
    {
      "cell_type": "code",
      "source": [
        "def expandir(L):\n",
        "  LE=[] #Lista expandida (parte vacia)\n",
        "  for k in range(0,len(L)): #busqueda por toda la lista\n",
        "    if type(L[k])==int: #si el elemento es simple...\n",
        "      LE=LE+[L[k]] #se agrega a la lista expandida\n",
        "    if type(L[k])==list: #si el elemento es una lista interna...\n",
        "      LE=LE+expandir(L[k]) #llamada recursiva con la lista interna\n",
        "    if type(L[k])==tuple: #si el elemento es una tupla...\n",
        "      LE=LE+L[k][0]*expandir(L[k][1]) #se suma multiplicandose por el primer elemento de la tupla y se llama recursivamente\n",
        "  return LE #retorna la lista expandida \n",
        "\n",
        "\n"
      ],
      "metadata": {
        "id": "hghA2bUWrXHw"
      },
      "execution_count": null,
      "outputs": []
    },
    {
      "cell_type": "markdown",
      "source": [
        "Para chequear si su función hace lo que requiere use los siguientes chequeos: \n",
        "\n"
      ],
      "metadata": {
        "id": "xHymnDHfPX8n"
      }
    },
    {
      "cell_type": "code",
      "source": [
        "if expandir([1,2,3]) == [1,2,3]: print(\"OK\"); \n",
        "else: print(\"Error\")\n",
        "if expandir([1, (2, [2, 3, [1, 2]]),5]) == [1, 2, 3, 1, 2, 2, 3, 1, 2, 5]: print(\"OK\"); \n",
        "else: print(\"Error\")\n",
        "if expandir([1, (5,[1,3])]) == [1, 1, 3, 1, 3, 1, 3, 1, 3, 1, 3]: print(\"OK\");\n",
        "else: print(\"Error\")\n",
        "if expandir([]) == []: print(\"OK\"); \n",
        "else: print(\"Error\")\n",
        "if expandir([2,(3,[5,3,[2,(3,[2,4])]])]) == [2, 5, 3, 2, 2, 4, 2, 4, 2, 4, 5, 3, 2, 2, 4, 2, 4, 2, 4, 5, 3, 2, 2, 4, 2, 4, 2, 4]: \n",
        "  print(\"OK\"); \n",
        "else: print(\"Error\")\n",
        "if expandir([3, (2, [1, (5,[1,3])])]) == [3, 1, 1, 3, 1, 3, 1, 3, 1, 3, 1, 3, 1, 1, 3, 1, 3, 1, 3, 1, 3, 1, 3]:\n",
        "  print(\"OK\")\n",
        "else: print(\"Error\")"
      ],
      "metadata": {
        "id": "A3Z_2jMIPmPk",
        "colab": {
          "base_uri": "https://localhost:8080/"
        },
        "outputId": "3cb3c54d-09e1-49d8-dfa7-ef6cf790ca7f"
      },
      "execution_count": null,
      "outputs": [
        {
          "output_type": "stream",
          "name": "stdout",
          "text": [
            "OK\n",
            "OK\n",
            "OK\n",
            "OK\n",
            "OK\n",
            "OK\n"
          ]
        }
      ]
    },
    {
      "cell_type": "markdown",
      "source": [
        "## ¿Qué hay que entregar?\n",
        "\n",
        "Usted debe crear una copia de este documento (del menú seleccionar \"Archivo\" o \"File\" y de ahi la opción \"guardar copia en Drive\" o \"save a copy in Drive\"). Este nuevo documento (notebook de Colab) es el que debe modificar para luego compartirlo con la opción \"Cualquier usuario de internet con este enlace puede ver esto\" (o “Anyone on the internet with this link can view”). Esta opción se encuentra disponible en la parte superior derecha de su notebook, en el botón \"Compartir\" (o \"Share\"). Una vez que tenga disponible el enlace, colocarlo en la descripción de la entrega de su tarea. No olvide colocar su nombre dentro del notebook."
      ],
      "metadata": {
        "id": "kTFnyLnlwc-E"
      }
    },
    {
      "cell_type": "code",
      "source": [],
      "metadata": {
        "id": "ex4a6f0PvMal"
      },
      "execution_count": null,
      "outputs": []
    }
  ]
}