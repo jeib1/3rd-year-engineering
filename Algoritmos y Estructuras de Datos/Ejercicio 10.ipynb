{
  "nbformat": 4,
  "nbformat_minor": 0,
  "metadata": {
    "colab": {
      "name": "Copia de CC3001 - Ejercicio 10",
      "provenance": []
    },
    "kernelspec": {
      "name": "python3",
      "display_name": "Python 3"
    },
    "language_info": {
      "name": "python"
    }
  },
  "cells": [
    {
      "cell_type": "markdown",
      "source": [
        "### Ejercicio 7.3 (Merge de listas con repeticiones)\n",
        "### Juan-Bastian Espinoza C\n",
        "\n",
        "Suponga que se desea mezclar dos listas ordenadas de manera ascendente en las cuales puede haber elementos repetidos. Estas listas se representan en forma compacta como una secuencia de tuplas en que para cada elemento se indica su *multiplicidad*, es decir, el número de veces que se repite. Por ejemplo, la lista\n",
        "```\n",
        "[(12,2),(34,1),(56,3),(74,1),(81,1)]\n",
        "```\n",
        "es la representación compacta de la lista\n",
        "```\n",
        "[12,12,34,56,56,56,74,81]\n",
        "```\n",
        "Se pide escribir un método ``merge(a,b)`` que reciba como argumento dos listas compactas ``a`` y ``b`` y retorne el resultado de mezclarlas. El resultado debe estar también en formato compacto.\n",
        "\n",
        "Para esto, usted debe modificar el método ``merge``del apunte, el que aparece a continuación:\n"
      ],
      "metadata": {
        "id": "51MD241NVxS1"
      }
    },
    {
      "cell_type": "code",
      "execution_count": 43,
      "metadata": {
        "id": "7eufJpmyVp5v"
      },
      "outputs": [],
      "source": [
        "def merge(a,b):\n",
        "  def f(a,b):\n",
        "    i=0\n",
        "    j=0\n",
        "    while i<len(a) or j<len(b):\n",
        "        if j>=len(b) or (i<len(a) and a[i]<=b[j]):\n",
        "            \n",
        "            yield a[i]\n",
        "            i=i+1\n",
        "        else:\n",
        "            yield b[j]\n",
        "            j=j+1\n",
        "  l=[x for x in f(a,b)]\n",
        "  def mezcla(l):\n",
        "    c=[]\n",
        "    for n in range(len(l)):\n",
        "      if n==0:\n",
        "        if l[n][0]==l[n+1][0]:\n",
        "          c.append((l[n][0],l[n][1]+l[n+1][1]))\n",
        "        else:\n",
        "          c.append(l[n])\n",
        "      if n>0:\n",
        "        if n==len(l)-1:\n",
        "          if l[n][0]==l[n-1][0]:\n",
        "            break\n",
        "          else:\n",
        "            c.append(l[n])\n",
        "        else:\n",
        "          if l[n][0]==l[n+1][0]:\n",
        "            c.append((l[n][0],l[n][1]+l[n+1][1]))\n",
        "          else:\n",
        "            if l[n][0]==l[n-1][0]:\n",
        "              pass\n",
        "            else: c.append(l[n])\n",
        "    return c\n",
        "  return mezcla(l)      "
      ]
    },
    {
      "cell_type": "markdown",
      "source": [
        "y luego debe probarlo ejecutando el código siguiente:"
      ],
      "metadata": {
        "id": "9UrsBuQzV43S"
      }
    },
    {
      "cell_type": "code",
      "source": [
        "a=[(12,2),(34,1),(56,3),(74,1),(81,1)]\n",
        "b=[(10,3),(12,5),(65,1),(74,1),(90,3)]\n",
        "c=[x for x in merge(a,b)]\n",
        "print(c)"
      ],
      "metadata": {
        "id": "RKQCuEoAV5Sf",
        "colab": {
          "base_uri": "https://localhost:8080/"
        },
        "outputId": "eafdce1e-653e-4a20-a35b-696408551c22"
      },
      "execution_count": 48,
      "outputs": [
        {
          "output_type": "stream",
          "name": "stdout",
          "text": [
            "[(10, 3), (12, 7), (34, 1), (56, 3), (65, 1), (74, 2), (81, 1), (90, 3)]\n"
          ]
        }
      ]
    }
  ]
}